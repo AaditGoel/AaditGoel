{
  "nbformat": 4,
  "nbformat_minor": 0,
  "metadata": {
    "colab": {
      "provenance": [],
      "collapsed_sections": [],
      "authorship_tag": "ABX9TyO8hMKCkOwIjrTks1PeTDnF",
      "include_colab_link": true
    },
    "kernelspec": {
      "name": "python3",
      "display_name": "Python 3"
    },
    "language_info": {
      "name": "python"
    }
  },
  "cells": [
    {
      "cell_type": "markdown",
      "metadata": {
        "id": "view-in-github",
        "colab_type": "text"
      },
      "source": [
        "<a href=\"https://colab.research.google.com/github/AaditGoel/TeamComputeKit/blob/main/PronounciationGame.ipynb\" target=\"_parent\"><img src=\"https://colab.research.google.com/assets/colab-badge.svg\" alt=\"Open In Colab\"/></a>"
      ]
    },
    {
      "cell_type": "code",
      "execution_count": null,
      "metadata": {
        "colab": {
          "base_uri": "https://localhost:8080/"
        },
        "id": "1CbA-0NIvqPW",
        "outputId": "d6d233e3-eed8-42c5-f89a-03a8f59eb2b5"
      },
      "outputs": [
        {
          "output_type": "stream",
          "name": "stdout",
          "text": [
            "Looking in indexes: https://pypi.org/simple, https://us-python.pkg.dev/colab-wheels/public/simple/\n",
            "Requirement already satisfied: qiskit in /usr/local/lib/python3.7/dist-packages (0.39.2)\n",
            "Requirement already satisfied: qiskit-ibmq-provider==0.19.2 in /usr/local/lib/python3.7/dist-packages (from qiskit) (0.19.2)\n",
            "Requirement already satisfied: qiskit-terra==0.22.2 in /usr/local/lib/python3.7/dist-packages (from qiskit) (0.22.2)\n",
            "Requirement already satisfied: qiskit-aer==0.11.1 in /usr/local/lib/python3.7/dist-packages (from qiskit) (0.11.1)\n",
            "Requirement already satisfied: numpy>=1.16.3 in /usr/local/lib/python3.7/dist-packages (from qiskit-aer==0.11.1->qiskit) (1.21.6)\n",
            "Requirement already satisfied: scipy>=1.0 in /usr/local/lib/python3.7/dist-packages (from qiskit-aer==0.11.1->qiskit) (1.7.3)\n",
            "Requirement already satisfied: websocket-client>=1.0.1 in /usr/local/lib/python3.7/dist-packages (from qiskit-ibmq-provider==0.19.2->qiskit) (1.4.2)\n",
            "Requirement already satisfied: urllib3>=1.21.1 in /usr/local/lib/python3.7/dist-packages (from qiskit-ibmq-provider==0.19.2->qiskit) (1.24.3)\n",
            "Requirement already satisfied: python-dateutil>=2.8.0 in /usr/local/lib/python3.7/dist-packages (from qiskit-ibmq-provider==0.19.2->qiskit) (2.8.2)\n",
            "Requirement already satisfied: requests-ntlm>=1.1.0 in /usr/local/lib/python3.7/dist-packages (from qiskit-ibmq-provider==0.19.2->qiskit) (1.1.0)\n",
            "Requirement already satisfied: websockets>=10.0 in /usr/local/lib/python3.7/dist-packages (from qiskit-ibmq-provider==0.19.2->qiskit) (10.4)\n",
            "Requirement already satisfied: requests>=2.19 in /usr/local/lib/python3.7/dist-packages (from qiskit-ibmq-provider==0.19.2->qiskit) (2.23.0)\n",
            "Requirement already satisfied: psutil>=5 in /usr/local/lib/python3.7/dist-packages (from qiskit-terra==0.22.2->qiskit) (5.4.8)\n",
            "Requirement already satisfied: sympy>=1.3 in /usr/local/lib/python3.7/dist-packages (from qiskit-terra==0.22.2->qiskit) (1.7.1)\n",
            "Requirement already satisfied: symengine>=0.9 in /usr/local/lib/python3.7/dist-packages (from qiskit-terra==0.22.2->qiskit) (0.9.2)\n",
            "Requirement already satisfied: dill>=0.3 in /usr/local/lib/python3.7/dist-packages (from qiskit-terra==0.22.2->qiskit) (0.3.6)\n",
            "Requirement already satisfied: importlib-metadata<5.0 in /usr/local/lib/python3.7/dist-packages (from qiskit-terra==0.22.2->qiskit) (4.13.0)\n",
            "Requirement already satisfied: tweedledum<2.0,>=1.1 in /usr/local/lib/python3.7/dist-packages (from qiskit-terra==0.22.2->qiskit) (1.1.1)\n",
            "Requirement already satisfied: ply>=3.10 in /usr/local/lib/python3.7/dist-packages (from qiskit-terra==0.22.2->qiskit) (3.11)\n",
            "Requirement already satisfied: stevedore>=3.0.0 in /usr/local/lib/python3.7/dist-packages (from qiskit-terra==0.22.2->qiskit) (3.5.2)\n",
            "Requirement already satisfied: typing-extensions in /usr/local/lib/python3.7/dist-packages (from qiskit-terra==0.22.2->qiskit) (4.1.1)\n",
            "Requirement already satisfied: shared-memory38 in /usr/local/lib/python3.7/dist-packages (from qiskit-terra==0.22.2->qiskit) (0.1.2)\n",
            "Requirement already satisfied: retworkx>=0.11.0 in /usr/local/lib/python3.7/dist-packages (from qiskit-terra==0.22.2->qiskit) (0.12.0)\n",
            "Requirement already satisfied: zipp>=0.5 in /usr/local/lib/python3.7/dist-packages (from importlib-metadata<5.0->qiskit-terra==0.22.2->qiskit) (3.10.0)\n",
            "Requirement already satisfied: six>=1.5 in /usr/local/lib/python3.7/dist-packages (from python-dateutil>=2.8.0->qiskit-ibmq-provider==0.19.2->qiskit) (1.15.0)\n",
            "Requirement already satisfied: chardet<4,>=3.0.2 in /usr/local/lib/python3.7/dist-packages (from requests>=2.19->qiskit-ibmq-provider==0.19.2->qiskit) (3.0.4)\n",
            "Requirement already satisfied: idna<3,>=2.5 in /usr/local/lib/python3.7/dist-packages (from requests>=2.19->qiskit-ibmq-provider==0.19.2->qiskit) (2.10)\n",
            "Requirement already satisfied: certifi>=2017.4.17 in /usr/local/lib/python3.7/dist-packages (from requests>=2.19->qiskit-ibmq-provider==0.19.2->qiskit) (2022.9.24)\n",
            "Requirement already satisfied: cryptography>=1.3 in /usr/local/lib/python3.7/dist-packages (from requests-ntlm>=1.1.0->qiskit-ibmq-provider==0.19.2->qiskit) (38.0.3)\n",
            "Requirement already satisfied: ntlm-auth>=1.0.2 in /usr/local/lib/python3.7/dist-packages (from requests-ntlm>=1.1.0->qiskit-ibmq-provider==0.19.2->qiskit) (1.5.0)\n",
            "Requirement already satisfied: cffi>=1.12 in /usr/local/lib/python3.7/dist-packages (from cryptography>=1.3->requests-ntlm>=1.1.0->qiskit-ibmq-provider==0.19.2->qiskit) (1.15.1)\n",
            "Requirement already satisfied: pycparser in /usr/local/lib/python3.7/dist-packages (from cffi>=1.12->cryptography>=1.3->requests-ntlm>=1.1.0->qiskit-ibmq-provider==0.19.2->qiskit) (2.21)\n",
            "Requirement already satisfied: rustworkx==0.12.0 in /usr/local/lib/python3.7/dist-packages (from retworkx>=0.11.0->qiskit-terra==0.22.2->qiskit) (0.12.0)\n",
            "Requirement already satisfied: pbr!=2.1.0,>=2.0.0 in /usr/local/lib/python3.7/dist-packages (from stevedore>=3.0.0->qiskit-terra==0.22.2->qiskit) (5.11.0)\n",
            "Requirement already satisfied: mpmath>=0.19 in /usr/local/lib/python3.7/dist-packages (from sympy>=1.3->qiskit-terra==0.22.2->qiskit) (1.2.1)\n"
          ]
        }
      ],
      "source": [
        "!pip install qiskit"
      ]
    },
    {
      "cell_type": "code",
      "source": [
        "from qiskit import QuantumRegister, ClassicalRegister, QuantumCircuit, execute\n",
        "import numpy as np\n",
        "cir=QuantumCircuit()"
      ],
      "metadata": {
        "id": "zeu-v7XovrtO"
      },
      "execution_count": null,
      "outputs": []
    },
    {
      "cell_type": "code",
      "source": [
        "qr = QuantumRegister(5,'qr')\n",
        "cir.add_register(qr)\n",
        "cr = ClassicalRegister(5,'cr')\n",
        "cir.add_register(cr)\n",
        "cir.h(qr)\n",
        "cir.measure(qr,cr)\n",
        "cir.draw()"
      ],
      "metadata": {
        "colab": {
          "base_uri": "https://localhost:8080/",
          "height": 340
        },
        "id": "j5SbkAhTvv7a",
        "outputId": "8874001d-b814-4e85-9ec0-edbd9e1b1d76"
      },
      "execution_count": null,
      "outputs": [
        {
          "output_type": "execute_result",
          "data": {
            "text/plain": [
              "      ┌───┐┌─┐            \n",
              "qr_0: ┤ H ├┤M├────────────\n",
              "      ├───┤└╥┘┌─┐         \n",
              "qr_1: ┤ H ├─╫─┤M├─────────\n",
              "      ├───┤ ║ └╥┘┌─┐      \n",
              "qr_2: ┤ H ├─╫──╫─┤M├──────\n",
              "      ├───┤ ║  ║ └╥┘┌─┐   \n",
              "qr_3: ┤ H ├─╫──╫──╫─┤M├───\n",
              "      ├───┤ ║  ║  ║ └╥┘┌─┐\n",
              "qr_4: ┤ H ├─╫──╫──╫──╫─┤M├\n",
              "      └───┘ ║  ║  ║  ║ └╥┘\n",
              "cr_0: ══════╩══╬══╬══╬══╬═\n",
              "               ║  ║  ║  ║ \n",
              "cr_1: ═════════╩══╬══╬══╬═\n",
              "                  ║  ║  ║ \n",
              "cr_2: ════════════╩══╬══╬═\n",
              "                     ║  ║ \n",
              "cr_3: ═══════════════╩══╬═\n",
              "                        ║ \n",
              "cr_4: ══════════════════╩═\n",
              "                          "
            ],
            "text/html": [
              "<pre style=\"word-wrap: normal;white-space: pre;background: #fff0;line-height: 1.1;font-family: &quot;Courier New&quot;,Courier,monospace\">      ┌───┐┌─┐            \n",
              "qr_0: ┤ H ├┤M├────────────\n",
              "      ├───┤└╥┘┌─┐         \n",
              "qr_1: ┤ H ├─╫─┤M├─────────\n",
              "      ├───┤ ║ └╥┘┌─┐      \n",
              "qr_2: ┤ H ├─╫──╫─┤M├──────\n",
              "      ├───┤ ║  ║ └╥┘┌─┐   \n",
              "qr_3: ┤ H ├─╫──╫──╫─┤M├───\n",
              "      ├───┤ ║  ║  ║ └╥┘┌─┐\n",
              "qr_4: ┤ H ├─╫──╫──╫──╫─┤M├\n",
              "      └───┘ ║  ║  ║  ║ └╥┘\n",
              "cr_0: ══════╩══╬══╬══╬══╬═\n",
              "               ║  ║  ║  ║ \n",
              "cr_1: ═════════╩══╬══╬══╬═\n",
              "                  ║  ║  ║ \n",
              "cr_2: ════════════╩══╬══╬═\n",
              "                     ║  ║ \n",
              "cr_3: ═══════════════╩══╬═\n",
              "                        ║ \n",
              "cr_4: ══════════════════╩═\n",
              "                          </pre>"
            ]
          },
          "metadata": {},
          "execution_count": 23
        }
      ]
    },
    {
      "cell_type": "code",
      "source": [
        "from qiskit import Aer\n",
        "def num_generator():\n",
        " def random_n():\n",
        "  backend=Aer.get_backend('statevector_simulator')\n",
        "  job = execute(cir, backend, shots=1)\n",
        "  counts = job.result().get_counts(cir)\n",
        "  return int(list(counts.keys())[0],2)\n",
        " num=random_n()\n",
        " while num==0 or num>=27 :\n",
        "  num=random_n()\n",
        " return num \n",
        " "
      ],
      "metadata": {
        "id": "qv0hM4_ivx1r"
      },
      "execution_count": null,
      "outputs": []
    },
    {
      "cell_type": "code",
      "source": [
        "print('input no. of digits')\n",
        "n=int(input())\n",
        "random_array=[0]*n\n",
        "for i in range(n):\n",
        " random_array[i]=num_generator()"
      ],
      "metadata": {
        "colab": {
          "base_uri": "https://localhost:8080/"
        },
        "id": "Wxva69tuv0Mx",
        "outputId": "640e6163-1111-4626-8fd3-96be09de6af5"
      },
      "execution_count": null,
      "outputs": [
        {
          "name": "stdout",
          "output_type": "stream",
          "text": [
            "input no. of digits\n",
            "5\n"
          ]
        }
      ]
    },
    {
      "cell_type": "code",
      "source": [
        "print(random_array)"
      ],
      "metadata": {
        "colab": {
          "base_uri": "https://localhost:8080/"
        },
        "id": "HA6WEtMPv2JT",
        "outputId": "b812edf7-ec08-477e-82e4-b5cace0e0787"
      },
      "execution_count": null,
      "outputs": [
        {
          "output_type": "stream",
          "name": "stdout",
          "text": [
            "[19, 4, 10, 21, 2]\n"
          ]
        }
      ]
    },
    {
      "cell_type": "code",
      "source": [
        "!pip install gtts"
      ],
      "metadata": {
        "colab": {
          "base_uri": "https://localhost:8080/"
        },
        "id": "cus78NDgv67b",
        "outputId": "bd9b5b37-9a4c-4393-c604-f1a02979cf8c"
      },
      "execution_count": null,
      "outputs": [
        {
          "output_type": "stream",
          "name": "stdout",
          "text": [
            "Looking in indexes: https://pypi.org/simple, https://us-python.pkg.dev/colab-wheels/public/simple/\n",
            "Requirement already satisfied: gtts in /usr/local/lib/python3.7/dist-packages (2.2.4)\n",
            "Requirement already satisfied: click in /usr/local/lib/python3.7/dist-packages (from gtts) (7.1.2)\n",
            "Requirement already satisfied: six in /usr/local/lib/python3.7/dist-packages (from gtts) (1.15.0)\n",
            "Requirement already satisfied: requests in /usr/local/lib/python3.7/dist-packages (from gtts) (2.23.0)\n",
            "Requirement already satisfied: idna<3,>=2.5 in /usr/local/lib/python3.7/dist-packages (from requests->gtts) (2.10)\n",
            "Requirement already satisfied: certifi>=2017.4.17 in /usr/local/lib/python3.7/dist-packages (from requests->gtts) (2022.9.24)\n",
            "Requirement already satisfied: chardet<4,>=3.0.2 in /usr/local/lib/python3.7/dist-packages (from requests->gtts) (3.0.4)\n",
            "Requirement already satisfied: urllib3!=1.25.0,!=1.25.1,<1.26,>=1.21.1 in /usr/local/lib/python3.7/dist-packages (from requests->gtts) (1.24.3)\n"
          ]
        }
      ]
    },
    {
      "cell_type": "code",
      "source": [
        "from gtts import gTTS\n",
        "from IPython.display import Audio\n",
        "from IPython.display import display\n",
        "import numpy as np\n",
        "from numpy import random\n",
        "import time\n",
        "import datetime\n",
        "list1 = np.array([\"none\",\"A\",\"B\",\"C\",\"D\",\"E\",\"F\",\"G\",\"H\",\"I\",\"J\",\"K\",\"L\",\"M\",\"N\",\"O\",\"P\",\"Q\",\"R\",\"S\",\"T\",\"U\",\"V\",\"W\",\"X\",\"Y\",\"Z\"])\n",
        "p=0\n",
        "print(\"Let's see how each alphabet is pronounced in order\")\n",
        "for voice in list1 :\n",
        "      if voice==\"none\":\n",
        "        continue\n",
        "      p = p+1\n",
        "      tts = gTTS(\"{}\".format(voice)) \n",
        "      tts.save('1.wav')\n",
        "      sound_file = '1.wav'\n",
        "      wn = Audio(sound_file, autoplay=True) ##\n",
        "      print(p)\n",
        "      display(wn)##\"\"\"\n",
        "      time.sleep(1)"
      ],
      "metadata": {
        "colab": {
          "base_uri": "https://localhost:8080/",
          "height": 1000
        },
        "id": "Vr_elb0nv_wE",
        "outputId": "65d98063-6ab3-463e-d012-56043a1133d0"
      },
      "execution_count": 38,
      "outputs": [
        {
          "output_type": "stream",
          "name": "stdout",
          "text": [
            "1\n"
          ]
        },
        {
          "output_type": "display_data",
          "data": {
            "text/plain": [
              "<IPython.lib.display.Audio object>"
            ],
            "text/html": [
              "\n",
              "                <audio  controls=\"controls\" autoplay=\"autoplay\">\n",
              "                    <source src=\"data:audio/x-wav;base64,//NExAASQFHYAUkQAMXC4BwNhttRAKxWTtz/hBuYPn1AmD8p8u/4IHCgIAg4TggGIPg4cic/4EcsH3/5cEDhcHwcicHz4nB8H34nD9YPg/Lg//EgYifFlk+Cvxx5uwpc//NExAoUglZkAZNoADV+XzcVsI87LcFgMcZf+HPMjxc/pputyTMhwfppuhjwJo8wq5kPD/b45CemfUs0/6b0/l82JckDQ0MzdP///96z8QIv///1l8H+rRYLCHxn7EDk//NExAsVMV60AY94AA+D4aop6GSBLhDnCuyRsFAX59Me8a05x65cY9a598eW3nU8d1CgueNY3isVWPHJ/RD4zgyt72v//8O19fWmYyWKepLkxyCf9f5F7+MRZyVhppW+//NExAkT4TawAdhIAMIGpsxqXUAcKHcMokGPhuzjVfjDUSpJl5Te3FBL9ZHcOsK5zmIRAvBclBs3qI2T70SMwzqEuvO2QYljkaw8okH2AN9P1sjlR4ugUm5TNRaAFVlu//NExAwUsTa0AJvYcdUCZMh7prFtEbj28pkRMZUrybymXudZdC/7Lrt5ZcP6SlAUKQNn5yeH9K+mhvdk5eUL2WF9FCT/koXYGgd6ha6vPr//+yg93+6kBiXrc7u+I/Ks//NExAwT6TqwAMPYcd2N0BRMuPHlFtHnnHYla4WzlhjzkobHTjR2/9lx/T4SSaE88uyCwPh/piYnJ+vZWvOdyEqPNqtRsilqFneitpqgcX/a5/6kpEmetYzOILwqK87Q//NExA8TgTq0AMPScDQc1feUtqmmzh8nXPf/lDLVZb//ab21WW4VJVgBwbFQqBodFZIzA2gZlq66SktZAhlA6lL17gPGs/u/////6e/rckGeLo3+4YOu4TltAOiAncuJ//NExBQRGU6sAMTelDokNFVXkyc+VH1l0/rlhvvL1wn+KvA64+PZhNCJXDEzMntK9VrnP/uFSATntbp/w/Xf/2wgKIi5csv+bOha2aJsRgKhJ1almYwldAiLcwNeszfo//NExCIQYTasAMTacBzqQHw20yoCilrWQHmepugUklIpk85SRRI5LdWcYr6Vw5/ysdW3tay9YVKe3NOuxxyBEJvuVpZSQd3HPOUV+Z552rN73ctlKQ71Kaudr+mZIH4b//NExDMReSqwAMYYcJPP0Jl67dnGmqMNLR4AD0V/U9Tv7yh1SUrnKUZPD067INGXyVK8sQdtypTFbEooftYUlf8s9hVzkzKVTlUqnWpruQLAqI1iO26LezfV+GOrtsc8//NExEAR6Tq0AMYScEFXt2xqyR5Vx5t0xY0i26BCdazt3wDtPmHaKAI3TUj+Z0tefvU2NSz3LOvj4fI3lS+QrZNpuSF0wQgDiQzZSV4n4XCEl2Q0cZn/plTP9Sre8nVa//NExEsRiTK0AMYScBY3Udm24quVZBEqeONNwrRyU2aSh5vOpS429ZayXhkpTld1U7ruYuDIYKhQHiE0mnFaKHpzIsVeiJlTG2ylSFVu+9O5+AqDLLEmLelYztXsYS0H//NExFcRuS60AMYScLtLp9IF+vD2W69n8Jzv1MfUI+bW9fL+fEr+kBKwFB/IGDWqtSknvQI5vbGiZwjmbRUw6Ki4ZT8klvIBVm0W8DzFKsDot2BCZIG1g81XKI9xr81q//NExGMR+S6wAMYScI+fU3/3+6/zayMIXG9Q9MEhMKwsKVklTWlEVMoop5VJyA5kmSZHLoePCgwVZrQumOTYYq/MkM7NhWUm70U4DZcnTYwLbJD081ecdq+P79vu+L9D//NExG4ScTasAH4ScJeZtOkIcSAXOwfO7iXTjQnAkDxQKpu+tyHtV//////+qpTYgEbjfmxAkbPcckDxUZTeNtmz5SqB/xoK+VNT/lzess/+vq1H+OvKFTRADlxoEY1Q//NExHcRISKoAMTWcKoeYJrjwuhwq9TtGiUSj//7f///0WKW4wck04GAodDJ0iUeN+8UGf1KqFSLFnJMOGAmdRNe6C6+v+Iq/rptz1W5z2HTqYfjEaARCED0TCBMhHFo//NExIURuS6cAMYOcIQlIDtXNacrJ99Lqk7UjvZ2b2Rm/+/0/V1f////+z1VnqhcqMpVW07TYTyIRIq6BkBZQaVhh80iEIMwCk817PjlDUaFHVyR06+d/9ub5r4yLxWL//NExJEY0vqEANLOuUVzAMCUVhMKTgJASEQeCJB5XNVHSttzXpW7MtO11tPO//2f6f90O2///vq322PKkTjCpI3JYm10kKDxmvq7MWRAdOtEZtPIqv7dEc+CAw6Vc7zF//NExIAYcwJ4ANHOuV/HO0/tF7d//d+RZmuoJlwFoMoHitVZ6I1zDeVrWXeZ/W3/fz1HfC9WBpjgVNmGsn2m3////b3LCYMySoBgRE5z1yggYGS5DjXI1TADAuOdaUoW//NExHEWWaZwAMoSlBYWOZua+v/+v///1W9hY6eSWkYDYFxyioq0qUcWHh34lqKiIFYM5UFSstEx7////8jVC9XE7DNVi3WDhOwLwq0Ug1BOhlrG5aSGR/zuXKRHS2rU//NExGoSCTZYAMIQcCjSrHjwKwFVm1vwU2KPTewQioVGCxIrYzLRZ95Zv8kLB5fvRyNdYqxaAqTV0DgwQsDA6Kqhbv0sGf////tVSqMSBlkgYGVwQlZYDppgjVVQMDqj//NExHQSaVYEAHjGlAtVQMqqv////////6i38qssssXppgrKqgdMIWqqjqqq3Qah0NI4D+HohDySBwGgqNEZg0hWrc8pMoUILEgQUI4wLEn0hISAUKh4GSJnWRMhUMgJ//NExH0SqC3oABhGAab9IsSArDX1pAIqZ/mRZH+KpRgYGVRQkYsGAZGkJChaoGB1VAwMokDAyoJCRiweB00wRaqoGQqqBlVlgyqulZZZ3abf//////////////////2m//NExIUQ8JHoAGJGTNpVVHTRVGVRqgEE6OTLJ6tYFDAg6GTKGBg0ss5ahkysFDAg6ORk1/aysDBo5GTLJZZfkpGTKwOgmZM+KihJ8Vb////WLYVFG+kYEicHwfB8HwcB//NExJQSSAHYABjGTQBAEAQB8HwfB8HAQBAEAQB8HwfB8HAQdv///wQAYPg+D4PggCAIAgCYPg+D4PggCAIAgCYPg+D4fBD///4IBhU0o4QhcRCDmIroQRXiOYQhFCwD//NExJ0QuW2cABjGlAYKEwRPjTIUSweSGoCaWAZh4XMNALByQoho1o1Iolj6///9aGgFo5IUAzQCSGkwolgGaNQqAYLgSCw8AUkA0D4FAKLAGFYGQ8DQCnwCkAGhkShY//NExK0RkAHUAAjGANgiXDI0PBUwCRcSkJkVNilQmKniFgmTMrPQwQpNBSZ1hMa5//9Ka1Yak1VSDOJgoKQVBVEhjCoJgoKTOJgMlhTDCpJLlv////7mlWEsGUUVJIks//NExLkRyHXcABjGSCmOKgyUClFFSVUKiI6omcOh4bOlFyiygMQefD92eNqWdngMMGBgnlBAwQYGCeWAwQKioqKs//UKioqKigsLCwsKioqKijf//6hYVrFRRUxBTUUz//NExMQeidXQAEpGmS4xMDBVVVVVVVVVVVVVVVVVVVVVVVVVVVVVVVVVVVVVVVVVVVVVVVVVVVVVVVVVVVVVVVVVVVVVVVVVVVVVVVVVVVVVVVVVVVVVVVVVVVVVVVVV//NExJwQ4OFEAEmGcFVVVVVVVVVVVVVVVVVVVVVVVVVVVVVVVVVVVVVVVVVVVVVVVVVVVVVVVVVVVVVVVVVVVVVVVVVVVVVVVVVVVVVVVVVVVVVVVVVVVVVVVVVVVVVV\" type=\"audio/x-wav\" />\n",
              "                    Your browser does not support the audio element.\n",
              "                </audio>\n",
              "              "
            ]
          },
          "metadata": {}
        },
        {
          "output_type": "stream",
          "name": "stdout",
          "text": [
            "2\n"
          ]
        },
        {
          "output_type": "display_data",
          "data": {
            "text/plain": [
              "<IPython.lib.display.Audio object>"
            ],
            "text/html": [
              "\n",
              "                <audio  controls=\"controls\" autoplay=\"autoplay\">\n",
              "                    <source src=\"data:audio/x-wav;base64,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\" type=\"audio/x-wav\" />\n",
              "                    Your browser does not support the audio element.\n",
              "                </audio>\n",
              "              "
            ]
          },
          "metadata": {}
        },
        {
          "output_type": "stream",
          "name": "stdout",
          "text": [
            "3\n"
          ]
        },
        {
          "output_type": "display_data",
          "data": {
            "text/plain": [
              "<IPython.lib.display.Audio object>"
            ],
            "text/html": [
              "\n",
              "                <audio  controls=\"controls\" autoplay=\"autoplay\">\n",
              "                    <source src=\"data:audio/x-wav;base64,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\" type=\"audio/x-wav\" />\n",
              "                    Your browser does not support the audio element.\n",
              "                </audio>\n",
              "              "
            ]
          },
          "metadata": {}
        },
        {
          "output_type": "stream",
          "name": "stdout",
          "text": [
            "4\n"
          ]
        },
        {
          "output_type": "display_data",
          "data": {
            "text/plain": [
              "<IPython.lib.display.Audio object>"
            ],
            "text/html": [
              "\n",
              "                <audio  controls=\"controls\" autoplay=\"autoplay\">\n",
              "                    <source src=\"data:audio/x-wav;base64,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\" type=\"audio/x-wav\" />\n",
              "                    Your browser does not support the audio element.\n",
              "                </audio>\n",
              "              "
            ]
          },
          "metadata": {}
        },
        {
          "output_type": "stream",
          "name": "stdout",
          "text": [
            "5\n"
          ]
        },
        {
          "output_type": "display_data",
          "data": {
            "text/plain": [
              "<IPython.lib.display.Audio object>"
            ],
            "text/html": [
              "\n",
              "                <audio  controls=\"controls\" autoplay=\"autoplay\">\n",
              "                    <source src=\"data:audio/x-wav;base64,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\" type=\"audio/x-wav\" />\n",
              "                    Your browser does not support the audio element.\n",
              "                </audio>\n",
              "              "
            ]
          },
          "metadata": {}
        },
        {
          "output_type": "stream",
          "name": "stdout",
          "text": [
            "6\n"
          ]
        },
        {
          "output_type": "display_data",
          "data": {
            "text/plain": [
              "<IPython.lib.display.Audio object>"
            ],
            "text/html": [
              "\n",
              "                <audio  controls=\"controls\" autoplay=\"autoplay\">\n",
              "                    <source src=\"data:audio/x-wav;base64,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\" type=\"audio/x-wav\" />\n",
              "                    Your browser does not support the audio element.\n",
              "                </audio>\n",
              "              "
            ]
          },
          "metadata": {}
        },
        {
          "output_type": "stream",
          "name": "stdout",
          "text": [
            "7\n"
          ]
        },
        {
          "output_type": "display_data",
          "data": {
            "text/plain": [
              "<IPython.lib.display.Audio object>"
            ],
            "text/html": [
              "\n",
              "                <audio  controls=\"controls\" autoplay=\"autoplay\">\n",
              "                    <source src=\"data:audio/x-wav;base64,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\" type=\"audio/x-wav\" />\n",
              "                    Your browser does not support the audio element.\n",
              "                </audio>\n",
              "              "
            ]
          },
          "metadata": {}
        },
        {
          "output_type": "stream",
          "name": "stdout",
          "text": [
            "8\n"
          ]
        },
        {
          "output_type": "display_data",
          "data": {
            "text/plain": [
              "<IPython.lib.display.Audio object>"
            ],
            "text/html": [
              "\n",
              "                <audio  controls=\"controls\" autoplay=\"autoplay\">\n",
              "                    <source src=\"data:audio/x-wav;base64,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\" type=\"audio/x-wav\" />\n",
              "                    Your browser does not support the audio element.\n",
              "                </audio>\n",
              "              "
            ]
          },
          "metadata": {}
        },
        {
          "output_type": "stream",
          "name": "stdout",
          "text": [
            "9\n"
          ]
        },
        {
          "output_type": "display_data",
          "data": {
            "text/plain": [
              "<IPython.lib.display.Audio object>"
            ],
            "text/html": [
              "\n",
              "                <audio  controls=\"controls\" autoplay=\"autoplay\">\n",
              "                    <source src=\"data:audio/x-wav;base64,//NExAAQwQnUAUkYAMXC4AwNk+oCQVisnb31BRGjbn4QhB34iImiIX//+iJ/ERE3CAAgEHCcEDn/E4flwfPqB8P6f//lw/w/KfygIOEgIBj/V3FyNtJP/tzbJy0f/G59//NExBAVWmZkAZmAAGGR85UJsrgngA4Wt+XEI4DEMfC4cUr9qCDDQJk0N/6b66p8m0zD/25oYpoImbf//ppTCgdN0f///00zd2QpmjX//+/csaqAZdhBplLKJKtBnE+1//NExA0VCLKcAdh4ALWAYSs+YjrYkcHzpH0LUJ8tTjDE2HksM4WA/y2KEb5ej3CCF/Lm0yzxKBh0QR0ut5cCPRDBNtkVfVYLOJ1H1BiULrffZ9jEVbfFgHwwQ9DYAYHi//NExAsVIT6wAH4acLp5J6QRGWsaTCj7EW0EZ2SPs5UAhxW2cp/1kMZDkiUkuDvIJ0vGJMQTZaaT016DvUtN3s2g7rWowmqZoEBU+eelm06xJQRJT9ilx/dRdTFM/lQ4//NExAkUwSq0AMYecHefW4CTnhcsoBEctA3mbSQBFJOXTKDQCsBmQLKkQgQaciHqIaSAyJoKthRMe2d+uNf2v/8X17XxT2vDhlRCdAL5dqhTZfEQiGtqdqxaQ0BnJk0A//NExAkU6TK4AI4gcJsn8K0ys+H8XRFEmgS6Iy/oWOmM8rgM5EQy8DgPkLlAhhqAYzGmTo6RzEEDUume6S9JlNRRSa7re6bLUggZhQ8GkJdTVi2Ijp+vQq6+YAN3bXWM//NExAgToTa0AH4kcAah9/jtGVrWXtZeUKTTjlTYS6piuPUq4yhL5N0ex8iFUgF6C5BdSLxeLS6zEuNrRNGSUktPRMOubu6kzRENBo5fs3yWClKaS6YCnnNnMga8HM3///NExAwR+TqoAJ5kcGMkXFFNSl4gpYPBRWX1CFtAuLY41iqgRIrmCYJYA1pOGa0Rbq2lgqdZn5GJdRv1k47rYsG2XyO/fTs31fLgPk0MpgFlwZS3h1NxbNTlHHTWx1bf//NExBcRSTqsAJYmcDMZiHepuUrtlzyIG6QygDqDDJc0KBFBVJ6y2a6kC91m3rNtaZPdAuH9myvVkvWqw/W3iDB1u8j4Va9utzAwEs7PckS8A7styrxIAKxuvTzTNERs//NExCQRETKsAMZecLc3hABM6R5U+Lmmv7qeL/SBB38Ue6970jf3vTfvDjdiqusY4DidFAM8nW62L4ln8Z8F4DbNVuO8BvAXhYoifELFmLE5MBbCzMpRH4NwiTqac5ih//NExDIQqLq4AGveTNE54YFjTCRS4+ZA4ENO//9VZpGBaANqU0wYHcAKANC7G4uCCBhmHM4LyA4tx+GcMeT5cFubjvAzMDESMT4c5JVQc8BmjQM0xTNvnGcY97V1j21q//NExEISCTK0AIYecL5sa1Lh9KrcKAk1RBwdTjy7iNYhQBiBqkJCrAdgqRSV2bDt4MMh4/XUVDGdQmKhRcTOJsaSpkaoESNwiKFhRMcpMc8FyLW/+j6ap4AD8+uuBaWX//NExEwQoMK4AGveTORiO4h2F9dKQBLCMltHOAVhGTlL+OZlWToV6NTioVymP8+DPFtKNift7PuaJW2Nb1en+Mb1/fNve+oOgyx3/+lv3KDbdcZCF0lB9o2s8DJbEBqX//NExFwSQSa0AHvecK/oig2DUNCwk1+Uyh65DhAD+0uZMpxDBwnJEAPl5hXbtbM22f6lL9Nc/++YSCTv//o/64czumAGGiRz9TrxqGU9dPZq023cpjK3INkXZiEw0+xt//NExGYRgR6wAH4YcEOgaM5Ory6zHhPPViMDy59eSUTBE72M2679j7m+/FtZo8OPLd/+qtfPspMtNqFQVACK5MzEZhgKJtMDqxdhooUie2Iv8kU6sNSNa1SzdkOP06ph//NExHMR+RqkAMYYcIsi6ZExESSOJFJCBr2o/Be4YR9Ql+BE4g3rdv9l9S+TWrADWBdlX7AGmDazD0TAeSq93BRhGqNREcHT6pHcVtk3G6xXjg4xTtplqk6u+WvvK617//NExH4SwSqYAM4McC2A+cClwvnCszXN/J1Z63rl64a6RsytbAlO39Df/9f//9Fp0wgdUGRCiEsbE2q8W3jYsSVq8GkQKkAo6ZES+gVDSMDCYQAkDYTAKi0PAeIUHCe5//NExIYWASKMAVlgAAWnMuaYpGx6OQtNOIx8EY3BrGQ0JgliBHoiBiHoUQjB4IkQ46SnLPIzCU9s8erQ+iGHGNq1apOJnWXVZh7dau7GtSi+p+//X/0OU1v9Oswz/TnG//NExIEgoyqEAZpQACF1NIA45S3AKBlB6GQmUmOKAVJxkNaqYnOhj8Kubax0CA2BjBQGDAjKks/ErEcEDC6JieS+LgIGWxzRjfX8CA0DQKwNMbGdD+B88xnUl/hfkLtD//NExFEhAqpEAZygANYXMOSTBxFS1/+R4uEWaREmi60pf//lMkDxPKRSOmShyjWr///yaTWp0UCeIETZoOol0A0HSJAwp1hDBm6iyvHEt2jfUWk2qU3jMl8p1MV7VF3U//NExCAWuUYMAc9AAF1NcRV1snjQ6AVDGhBOJmExc8TI+ktNmRMlQu5INuDJWlDjCRwFFGvIng/WGW4wOhaQspXy09VMnlQGL+9Tg+jStEe0iwFMqn3mwI+WWdUK/d3e//NExBgVaUoAAHmMlPb3y/rdlmamjG+tuztU82j+2SUOQpOSONWngUShF4wHjcWDjmHz51gAdrm3uXKNaOFXmAD3KvvbXXcmKhpNI0czxsqy0vLEksxJZdBwLhKmqf8V//NExBUROS4EAHmEcA3kkuhlvdmrWb6lZmc9ENYgNgwdJFjtT2VFWcqo8giPRDp18edEXc0ZzAiX7ff+LiWWRaOpicrVtWCACGbgYtQ4c4bMCBhQVUFBUwACLzcUI0Ar//NExCMQyHX4AGDGSA6YCYukVfUyHfmNWUcBul6zPGxdTOWYzixd7vTzCUvMVQLAOKYkxW/c4kWAUeqyWBEysivFmvET4mBoeGhEoGp1TwV4aljxFR4Nd7e6HSU6CqfP//NExDISAG30AGGSKFhH4NCUAlh8qt2sNA0V73ZYChINA0h2fc70pW5vqVjBAsQcioVx2OT3foV2Ocn7N//VCjjiDkPs7/sq/K7DHJ/ui27f/7foUwwgWQ//6u7O1nY5//NExD0Q0vmEADCEucn/8phhgxUXhIWR3SKD7MWCCQ5AticOCEi0cFgITCIqByAWGgQgBAsAyIRf4sA2fWjUZCJAagWAZEImgsAyYJkAJUn9Yqgd/ixN/3cWSiQmKW5X//NExEwRqF34AGGGKKhbhxoSCoBQlBJWCgxIZxIdJAoFXJCYLAUidGQKHQmAvoYdd6W8KmQkRCQFIhMyLICoFIhJFDHfb1/4VkxBTUUzLjEwMKqqqqqqqqqqqqqqqqqq//NExFgQMF3YAHmGKKqqqqqqqqqqqqqqqqqqqqqqqqqqqqqqqqqqqqqqqqqqqqqqqqqqqqqqqqqqqqqqqqqqqqqqqqqqqqqqqqqqqqqqqqqqqqqqqqqqqqqqqqqqqqqq//NExGoAAANIAAAAAKqqqqqqqqqqqqqqqqqqqqqqqqqqqqqqqqqqqqqqqqqqqqqqqqqqqqqqqqqqqqqqqqqqqqqqqqqqqqqqqqqqqqqqqqqqqqqqqqqqqqqqqqqqqqqq\" type=\"audio/x-wav\" />\n",
              "                    Your browser does not support the audio element.\n",
              "                </audio>\n",
              "              "
            ]
          },
          "metadata": {}
        },
        {
          "output_type": "stream",
          "name": "stdout",
          "text": [
            "10\n"
          ]
        },
        {
          "output_type": "display_data",
          "data": {
            "text/plain": [
              "<IPython.lib.display.Audio object>"
            ],
            "text/html": [
              "\n",
              "                <audio  controls=\"controls\" autoplay=\"autoplay\">\n",
              "                    <source src=\"data:audio/x-wav;base64,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\" type=\"audio/x-wav\" />\n",
              "                    Your browser does not support the audio element.\n",
              "                </audio>\n",
              "              "
            ]
          },
          "metadata": {}
        },
        {
          "output_type": "stream",
          "name": "stdout",
          "text": [
            "11\n"
          ]
        },
        {
          "output_type": "display_data",
          "data": {
            "text/plain": [
              "<IPython.lib.display.Audio object>"
            ],
            "text/html": [
              "\n",
              "                <audio  controls=\"controls\" autoplay=\"autoplay\">\n",
              "                    <source src=\"data:audio/x-wav;base64,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\" type=\"audio/x-wav\" />\n",
              "                    Your browser does not support the audio element.\n",
              "                </audio>\n",
              "              "
            ]
          },
          "metadata": {}
        },
        {
          "output_type": "stream",
          "name": "stdout",
          "text": [
            "12\n"
          ]
        },
        {
          "output_type": "display_data",
          "data": {
            "text/plain": [
              "<IPython.lib.display.Audio object>"
            ],
            "text/html": [
              "\n",
              "                <audio  controls=\"controls\" autoplay=\"autoplay\">\n",
              "                    <source src=\"data:audio/x-wav;base64,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\" type=\"audio/x-wav\" />\n",
              "                    Your browser does not support the audio element.\n",
              "                </audio>\n",
              "              "
            ]
          },
          "metadata": {}
        },
        {
          "output_type": "stream",
          "name": "stdout",
          "text": [
            "13\n"
          ]
        },
        {
          "output_type": "display_data",
          "data": {
            "text/plain": [
              "<IPython.lib.display.Audio object>"
            ],
            "text/html": [
              "\n",
              "                <audio  controls=\"controls\" autoplay=\"autoplay\">\n",
              "                    <source src=\"data:audio/x-wav;base64,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\" type=\"audio/x-wav\" />\n",
              "                    Your browser does not support the audio element.\n",
              "                </audio>\n",
              "              "
            ]
          },
          "metadata": {}
        },
        {
          "output_type": "stream",
          "name": "stdout",
          "text": [
            "14\n"
          ]
        },
        {
          "output_type": "display_data",
          "data": {
            "text/plain": [
              "<IPython.lib.display.Audio object>"
            ],
            "text/html": [
              "\n",
              "                <audio  controls=\"controls\" autoplay=\"autoplay\">\n",
              "                    <source src=\"data:audio/x-wav;base64,//NExAASKSEMAUwwAAaIiWCY7tCADQRD+xIEAmMksRye5q8zP7HBg40f//wT0wgg55MmQw8Bk6IAAgmxgIQcmTTh7JpsYQiIHE/LnBO8EAyoMFw/L0LSHIKQQtjgGbBY//NExAoRcXKgAZKIAADf8iagJ2Li5FyfcBsGRc/dBZTYufammmgaFccYz35PvWnGK5JmhOJ/2W7cZc3TNDA83/SBA+QT/+XOJscuTSTw+V3ZzAZuVjbaXxVNtScWnqNN//NExBcWUTqoAdh4AMUQjNm3KpBdtAipalsQXec3bItdQ2p3azw74zcxHYV5+t9YLOww9wnCFJm1JMWmh5xCOLBdhU+oQREcE4LtFn/4+urXebKgB9lFOOqMPR0o2aEV//NExBAWQUasAMPecCI8zPm0+ArfF8AxdZtsypr/Lc/1qilZ/rphgpaUWYnCw9UqBMtp3BWWdz1iPEiRfHZHOftTG/34QIRJGCdLGmGPFjlt9rFhg+vX6qp3Ic7VPeeE//NExAoUET60AMPYcNSWp/baChR8fLcJ8OOfOFMXNw+WFDVX8zAv+fgLf/jRdLd8JQWvQZYvGav/givsy6v2dTQo/mAPnCR/eom0oHzZljumZeWqr//5G9Upv5TQzgiP//NExAwUsVKwAMQYlEn7GdC0QdjmJYBOcuXIaMeV3yON1VGQ703cxLRPtWegzXo4QlNzCLtof7+NPOU1apX5TcVHjHMxuSVLGAM/NgcsZFzT+quqw1vUEgSlt62eCqwb//NExAwVoUasAMvecDnHEzFCXA1HbvR3AORDK1gym84W8JTKPfvBVKr39yK1z3c/R+lPve6p2P/l7Jv6+5v823A1rV3GPAwnqD6UsKudDtuwzv/////5enpIkOAEgF5n//NExAgS2V6sAJwalJ5wD8Ql6lihgbBZ02rICFWpE6J7JaucGcejTIFvL49LWkmKqTPj1fXLPSKepRgtkkXKm6jDLZDJMW3fLGqm/////q0V1/9jBl84k/eoXSPoeZ7y//NExA8V4VqoAMYYlYoESlueEfQTrd/9wwr2z+ViAJbzDOndOK83XrwLvZwyTxZbqMLD6PKMO9Py21b/lYqtTXyo9Oc5cUgS36V/kVTBXior9Hfj/8X/+0ggOyV+1Kqc//NExAoU+U6oAMPYlIbIB1ovWZAKQBpJbDgUASE6WVgLYnYdLs6kfssB5GZW61GBteNzG5qw2ASIJyhQx9L/PQ7b659+3frfnqswoo3sBYBLzn6mGxTQzxrQ6DdayZ4+//NExAkTyU6gAMPWlIe3jSWrpTGxSB8kY/CiHaHS3lzOxp6rWELQlZZIL7DyO8jtrDqC+cmRhXAvLCARemkXJZ3PVui76bz8dyjGnYjWp89/co1VoqseQYPgNqMEAhYw//NExAwTiPKYAM5YcKkaSUbMfE+5FNmTPu9TEpxrDP21lsmjb+2YlSSKlqYLpgl2V9lras6IRuMTG565trKoNx5KMks2pSD4dIkf/rO7zSpyaZ9TPowjS2y+ThnUTnFF//NExBASQPaIANPScEmYIcAejaUcB9DD8DSjvTeUU8NiiyQlKoYpwlyk1pYq6JkfBFhE9mCkpYu6lGThNVQ0aFQQJf/+BmYShMsxKXL/tERlNMUJFoBBJNmpp8rJ6wgP//NExBoRWTqAANvQcNnLwhsTaZnzlixmAC1bgRvhtgEbkg6levEC5h6os5Mi5/eThorRIzT//301Z64ahxtvQYObqQJjnO2CN0FhYeZppavI85KBULSRDhUEFkAP2KrL//NExCcR8UqAANQKlB8JZSegqmShElpqcqjmiYqjCxyqC682rqgmPPH0Hv/+YS7EHuoauEERDFy4QaDsncMGm5NGUjEZdWO8kM8iLMW2Gf+SX4bkfl/w/gCJvonWYizC//NExDIQoTqAANvMcNu4LlQjnffk/uzy4dxz//6VXS4jLzdMsHG4iAgKvglKZuXVEE+ZACl2PUMLxQlpvZgBwyyXUG/Gcs1cVYiY0fbWKHQkFXJD7KFQwUXNxu18bvMv//NExEISWT50ANvMcOyiZuKf/FkKZpH18GW7QFCB0CBi2BvFGEt8aABlYKukyKyt1CyNiZGMoqscXXi6/1VDXzpAOIEtRBdsDVgISH3SN9/mUwwGdu/+l2peDrCggaVI//NExEsRATp0ANvGcI8OIrmR0poAS0RhJt5IJBzGCnOGbSiqiDxrK3+v34mPnGfI/Z0z0CN1md9rKpANGxPbH/7v+0HIu7/+1yYeC2IlojoTYOE09gjZRXmAoDjQs2Em//NExFoQ8T5wANvMcOqtajbkKJ88cbU18axrWnz/X9nsYOVW7P1qjaShDZzPLv//5cgeVSV/+VX/XUwYeGXZnUSwpb4Blk1lH2DK7VkFpyeHz2RQpFTcG9O/Wv/sw3yU//NExGkQqT5sANvMcB5MJp737/ToktGFf3ua3fuzeW0HBL/9IZY36EJoACmYanIjmsEuSBAoYBpVpK6ZUDmMZhZaK5qOYtx1OVnyufa+8warmzGAgKqSszf1SzoCJJgI//NExHkQQTpkANMMcFKTM3xlXgE4l3/RnQZVAESzPAUBkVOaRR0mcmcOCBgs1IUYK0ILS9ZTlMmnShkoYwVMYzGcWXXmqEYqB3CyRCdNBZbFs0u6tDkC1lGtijLk1IWq//NExIsRUT5MANPGcAEg8JYtEIhmg7EkDQS79rRBQImiSeae4eFog2EwSOpCRYNAyRdxYBegVM+aN8TBUMxVg4SGojMmTIBgUKsULNFhczImUGn01QzkglEmDYUw0aSK//NExJgRCP38AEjGcIMmSgUWUaKCyRRKiSwoUw0UUKokqKFFlFHFSTaLLGFNaxpzHO/q3///////////////////qWW5xJptFioAj8x/xx/5n+AGeAO6Gf0P/of+An4A//NExKYRyIXwAGGMSI+AZ4eO8Pf4e/gA7AA/MR8cf8c/wA/wB3gDuh7uh/5h/4CPgCPwM8PP8PfwD/gB/AD86gLGBIRvpRwjJQTDwkI24QxAqKyg4RtManJheTE5Q85K//NExLER2AnYABjGAVt7DFIo0mE0aSCRIm2pCbaROcFBc2CSnG2cQFjwREne54PSBCwxMpRMrEzKIH0gTpB+2W2WYhE/D6QurjLr9saN1u8ZGO75n1/j20Pvb638THvf//NExLwSEAXYAAgAAZn//e2h05LbohISUk8+rOPIghVXaNRIY1LyhrDX9Y2pNtVjVYsalGomiQQoKTVdSZgoCbUBQERARqVIqKlrJIOPnXkg7niOWU/1hI95498SiInV//NExMYe8vngAEpMuUxBTUUzLjEwMFVVVVVVVVVVVVVVVVVVVVVVVVVVVVVVVVVVVVVVVVVVVVVVVVVVVVVVVVVVVVVVVVVVVVVVVVVVVVVVVVVVVVVVVVVVTEFNRTMu//NExJ0SSTncADDGcDEwMFVVVVVVVVVVVVVVVVVVVVVVVVVVVVVVVVVVVVVVVVVVVVVVVVVVVVVVVVVVVVVVVVVVVVVVVVVVVVVVVVVVVVVVVVVVVVVVVVVVTEFNRTMu//NExKYAAANIAAAAADEwMFVVVVVVVVVVVVVVVVVVVVVVVVVVVVVVVVVVVVVVVVVVVVVVVVVVVVVVVVVVVVVVVVVVVVVVVVVVVVVVVVVVVVVVVVVVVVVVVVVVVVVVVVVV//NExKwAAANIAAAAAFVVVVVVVVVVVVVVVVVVVVVVVVVVVVVVVVVVVVVVVVVVVVVVVVVVVVVVVVVVVVVVVVVVVVVVVVVVVVVVVVVVVVVVVVVVVVVVVVVVVVVVVVVVVVVV//NExKwAAANIAAAAAFVVVVVVVVVVVVVVVVVVVVVVVVVVVVVVVVVVVVVVVVVVVVVVVVVVVVVVVVVVVVVVVVVVVVVVVVVVVVVVVVVVVVVVVVVVVVVVVVVVVVVVVVVVVVVV\" type=\"audio/x-wav\" />\n",
              "                    Your browser does not support the audio element.\n",
              "                </audio>\n",
              "              "
            ]
          },
          "metadata": {}
        },
        {
          "output_type": "stream",
          "name": "stdout",
          "text": [
            "15\n"
          ]
        },
        {
          "output_type": "display_data",
          "data": {
            "text/plain": [
              "<IPython.lib.display.Audio object>"
            ],
            "text/html": [
              "\n",
              "                <audio  controls=\"controls\" autoplay=\"autoplay\">\n",
              "                    <source src=\"data:audio/x-wav;base64,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\" type=\"audio/x-wav\" />\n",
              "                    Your browser does not support the audio element.\n",
              "                </audio>\n",
              "              "
            ]
          },
          "metadata": {}
        },
        {
          "output_type": "stream",
          "name": "stdout",
          "text": [
            "16\n"
          ]
        },
        {
          "output_type": "display_data",
          "data": {
            "text/plain": [
              "<IPython.lib.display.Audio object>"
            ],
            "text/html": [
              "\n",
              "                <audio  controls=\"controls\" autoplay=\"autoplay\">\n",
              "                    <source src=\"data:audio/x-wav;base64,//NExAAPuEHcAUkYAGLC4BwBgmT6ojJ0aNG3N4Pg+D7/+CYPn5QHwfD8EwfB8H4Pg+D4frB8Hw/icHwcDGD4IAhiQEAx////93AgIMegYOpuHiiIn/uPJoW+//Dcvava//NExBQWMypIAZo4AOLFcfEsN/RoTiWNx39j8nNF5T9/uaeJY+/9/0RjCo3X/q7fno40MHB8ZK////cmYTSYpMmcQX//1t/t7GVPLjhAypEfMnORLWInU1NHRJC/e3c5//NExA4VokqgAY84ANll0UxE6GnUtHp6vWSGio5g+KtnyoloNhowlAMEkRyJn896NcbFCCu6f8xSB5hees4bl2P1//OMQfPPT0KmHwnf/zKnX+9C3KoNq5WVNmyAdPte//NExAoUmg6gAckoAHepTu9v/L/9tX7VlfMJh0cW9BMHGuiqxBIzkFxcKHQ+QWPZ5i4ud5FsKmce7hxCHyNfZRyOKC4cGgeHJMBiMyKfNU10KQj28bWQY3s1DDMRcLv5//NExAoVKgacAMCMmNlTNyopK75DOwdkMtH//3/+pjtMqqTQYpM0hOxFvIgciRDIXcwd2utSZbdO8w5OC9xjojfO/5lO01T85cEmuHkr1UWNWp/Z7LlrWotS7waUn0dg//NExAgSuVKgANFQlOMFncWkhckBgLzXB5YqP2ZQO66o3Y7+/+9/8cc2HEKhIwHQVi8pNkCkp4uPHl2BcUa4iFwYcUPgB7N7Kft0//zX+5GW6zuSUqCCL2SZdpWRGL07//NExBAVWwagAMtUuJv/8nC3+NDWzjes0+tvv6RD6zAOpDssuEkLTnsYgU5tJUSRD9iEWH5wyMd8eheFVqQk/zvnN/1cqTrRP///9F+31/f3Koqe7+dIqufrDQ5yivuC//NExA0SKbakAMnalGKWnDaNx8EvidvPb0N+3/zM96xyFK7DOAlw4XQePglKVNZIFEvbqMEX9Nus+XV1JIGuJn1P///6f/WnRcf1VjwwCHyRnW6ZPQbJletQwX5g0F3n//NExBcSkaqkAMnalLff//6Zr0zMkDV0ViaA6SURlwzJYep5TIF8pKdlGCaLXWp31rRZeag0TSZ+j0f///0bhdXDn9mGRiYWew3KgsuicW+ohLPyjeVf1+nz/+X3/DTz//NExB8RybagANHWlGpJZHANOD800JIJJNlUd54fapjKd8Mpv/EtqKmL2MOV/Yj6n////XUqr8zqL7MbBDhsxVgkKjR7EFibZZs8ub3Y7/p//0ZDnIycw0hGYgwpgUg3//NExCoRsT6kANHUcA+HR+LiMasSMDIgSZHR7o9MsaNv//S1n/+z/uQisczlAySYRjvu5BIAOPRAaKx1NhOJLZ/noa3926///1U3TFKem0uH8B+AobE0fTxqkdOyxq01//NExDYRcaakAMnWlNz//X/XUTNHLP/9H///9ibH+PuDVYYNiqygIOOubDitYuCABOWZlqepetCiv9u7Jt/pMQ0+TmCeIoCcbiHFgqKhGIyFzUgdYHHOXqvSl3////s///NExEMRETakANNUcPqqxyuiE8tND8TdA+4Q8JsbvoPtNnGBFdU/O7J6af/+p+4oZUwNcVEQYGEDIgB2HYlBSxhCZ1Q9RF/HEXPP+pg4Df0fxn///4pVr15UBktnloqk//NExFERyaKgAMiQlP9kSmdo8nkDbSuHwKKkJkecxXU3///960lrMCRL4zkoGyQ0i4PZEjnSWNiM55qSkWWutta7s2xq6Bl////93/rVcjUBm6I982QdqbuQKinKM3xA//NExFwSUaagAMFalAkBSWZpLvdegklX///9KKsw8hFQVwDQbwuhZHBVGA9GZzDQWSIuFBA14/cWSVEY///u//T/1bGLu2GEj1R15l0joiWgITTDJiZZEp9dDrFo53Mp//NExGUSgUKYAMtUcDm/6fp+u6qaRJMNxoKwWjxYHRcaoJQvExhs1ldtu22x9TCseM//kCmhH/s/6nrQVxF4cOC2bBMhdmcUk9agI1LIrrzQYy/89kkYaPUWt9tOuj////NExG4SeaKQANCOlMo5xUsYNQJBMD0SC40FISBKOjQuQFJYks5jTTkux9ER7ceP///9aVvzW1N//+tVqn/7o1KTpjljk01hDbPUfh2PJXQNcvLjoWl4zpOQc5f9LZl2//NExHcXawKAANHOuHnKVGikZ5vR////9XcqUYqeFigjg6KLgEEgkQJBwQHHDhIidamR1RqPSzoYWJ5fZf/8xVtZW////mrbXZF21ZFHDCqwsh61U5clDkfLyamYFSGm//NExGwX4wJ0ANHKuK9GIJhL2S2yLVggIYhHyrR/3X9P/5+hjbNS2OCQOvuTpGh4HZDM8V8f9RH8ca2ijZF9lBeQod//+//gql45SoCXclObrgLrTYMXdCoai0zLbNYC//NExF8Smap0AMiQlBXKAlq3Qxn/ob/5X6GepjTB4PCzlModZ2AYAg8xjKUv/UuUrCQsVOhrp4hd////9dUES4vp9a2e5EUl6XUFAIZ5KFRhVhJ4SFhhoKuIDhwlCUiC//NExGcRCaZgAMCKlMJQCEwEKhlBI8eLNLEkKCoCJVjJaLGk5FxnLEhRGK9W/0/kW0pkmAzRw8FgYGAVRhaqzVVSj////+0TquRlqoyqiQMqjLLJAwvSErLAZGmCuqqR//NExHURqF4EAGGGKKav/////////tNN1VQOiqMLVDC1VSiyQtVSsstVIKPooS6GWaplHKkgQeNSnwtEiKPQFAIaoX2OMKCgwyAmwZEZkFhd0iAgqGQFxUyEmOwCKhkB//NExIESiC3oAAhGATeZCbHcVS70j2O9LmetFDOgcIDBKrKOMLEOECAwQVlYYccQ6OEBxVZTGBwHBUQgyHDYJgmKiEFjIDBMICwmDZkCA4LCwlNGgIFhUVIGjbliv/////NExIkQ8JXoAHmGTP//xVUFKuLxI0pnZ2dnYq82aNOEgZlxuUaUzs7Ozs14asoYKDCOhkygpZZfkcjVlDAwYJmQEEhUVZUh6xUWNVin///+3+sUbipMQU1FTEFNRTMu//NExJgSEKXkABjGTDEwMKqqqqqqqqqqqqqqqqqqqqqqqqqqqqqqqqqqqqqqqqqqqqqqqqqqqqqqqqqqqqqqqqqqqqqqqqqqqqqqqqqqqqqqqqqqqqqqqqqqTEFNRTMu//NExKIROUmoADGGlDEwMKqqqqqqqqqqqqqqqqqqqqqqqqqqqqqqqqqqqqqqqqqqqqqqqqqqqqqqqqqqqqqqqqqqqqqqqqqqqqqqqqqqqqqqqqqqqqqqqqqqTEFNRTMu//NExKwAAANIAAAAADEwMKqqqqqqqqqqqqqqqqqqqqqqqqqqqqqqqqqqqqqqqqqqqqqqqqqqqqqqqqqqqqqqqqqqqqqqqqqqqqqqqqqqqqqqqqqqqqqqqqqqTEFNRTMu//NExKwAAANIAAAAADEwMKqqqqqqqqqqqqqqqqqqqqqqqqqqqqqqqqqqqqqqqqqqqqqqqqqqqqqqqqqqqqqqqqqqqqqqqqqqqqqqqqqqqqqqqqqqqqqqqqqqqqqqqqqq//NExKwAAANIAAAAAKqqqqqqqqqqqqqqqqqqqqqqqqqqqqqqqqqqqqqqqqqqqqqqqqqqqqqqqqqqqqqqqqqqqqqqqqqqqqqqqqqqqqqqqqqqqqqqqqqqqqqqqqqqqqqq//NExKwAAANIAAAAAKqqqqqqqqqqqqqqqqqqqqqqqqqqqqqqqqqqqqqqqqqqqqqqqqqqqqqqqqqqqqqqqqqqqqqqqqqqqqqqqqqqqqqqqqqqqqqqqqqqqqqqqqqqqqqq\" type=\"audio/x-wav\" />\n",
              "                    Your browser does not support the audio element.\n",
              "                </audio>\n",
              "              "
            ]
          },
          "metadata": {}
        },
        {
          "output_type": "stream",
          "name": "stdout",
          "text": [
            "17\n"
          ]
        },
        {
          "output_type": "display_data",
          "data": {
            "text/plain": [
              "<IPython.lib.display.Audio object>"
            ],
            "text/html": [
              "\n",
              "                <audio  controls=\"controls\" autoplay=\"autoplay\">\n",
              "                    <source src=\"data:audio/x-wav;base64,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\" type=\"audio/x-wav\" />\n",
              "                    Your browser does not support the audio element.\n",
              "                </audio>\n",
              "              "
            ]
          },
          "metadata": {}
        },
        {
          "output_type": "stream",
          "name": "stdout",
          "text": [
            "18\n"
          ]
        },
        {
          "output_type": "display_data",
          "data": {
            "text/plain": [
              "<IPython.lib.display.Audio object>"
            ],
            "text/html": [
              "\n",
              "                <audio  controls=\"controls\" autoplay=\"autoplay\">\n",
              "                    <source src=\"data:audio/x-wav;base64,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\" type=\"audio/x-wav\" />\n",
              "                    Your browser does not support the audio element.\n",
              "                </audio>\n",
              "              "
            ]
          },
          "metadata": {}
        },
        {
          "output_type": "stream",
          "name": "stdout",
          "text": [
            "19\n"
          ]
        },
        {
          "output_type": "display_data",
          "data": {
            "text/plain": [
              "<IPython.lib.display.Audio object>"
            ],
            "text/html": [
              "\n",
              "                <audio  controls=\"controls\" autoplay=\"autoplay\">\n",
              "                    <source src=\"data:audio/x-wav;base64,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\" type=\"audio/x-wav\" />\n",
              "                    Your browser does not support the audio element.\n",
              "                </audio>\n",
              "              "
            ]
          },
          "metadata": {}
        },
        {
          "output_type": "stream",
          "name": "stdout",
          "text": [
            "20\n"
          ]
        },
        {
          "output_type": "display_data",
          "data": {
            "text/plain": [
              "<IPython.lib.display.Audio object>"
            ],
            "text/html": [
              "\n",
              "                <audio  controls=\"controls\" autoplay=\"autoplay\">\n",
              "                    <source src=\"data:audio/x-wav;base64,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\" type=\"audio/x-wav\" />\n",
              "                    Your browser does not support the audio element.\n",
              "                </audio>\n",
              "              "
            ]
          },
          "metadata": {}
        },
        {
          "output_type": "stream",
          "name": "stdout",
          "text": [
            "21\n"
          ]
        },
        {
          "output_type": "display_data",
          "data": {
            "text/plain": [
              "<IPython.lib.display.Audio object>"
            ],
            "text/html": [
              "\n",
              "                <audio  controls=\"controls\" autoplay=\"autoplay\">\n",
              "                    <source src=\"data:audio/x-wav;base64,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\" type=\"audio/x-wav\" />\n",
              "                    Your browser does not support the audio element.\n",
              "                </audio>\n",
              "              "
            ]
          },
          "metadata": {}
        },
        {
          "output_type": "stream",
          "name": "stdout",
          "text": [
            "22\n"
          ]
        },
        {
          "output_type": "display_data",
          "data": {
            "text/plain": [
              "<IPython.lib.display.Audio object>"
            ],
            "text/html": [
              "\n",
              "                <audio  controls=\"controls\" autoplay=\"autoplay\">\n",
              "                    <source src=\"data:audio/x-wav;base64,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\" type=\"audio/x-wav\" />\n",
              "                    Your browser does not support the audio element.\n",
              "                </audio>\n",
              "              "
            ]
          },
          "metadata": {}
        },
        {
          "output_type": "stream",
          "name": "stdout",
          "text": [
            "23\n"
          ]
        },
        {
          "output_type": "display_data",
          "data": {
            "text/plain": [
              "<IPython.lib.display.Audio object>"
            ],
            "text/html": [
              "\n",
              "                <audio  controls=\"controls\" autoplay=\"autoplay\">\n",
              "                    <source src=\"data:audio/x-wav;base64,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\" type=\"audio/x-wav\" />\n",
              "                    Your browser does not support the audio element.\n",
              "                </audio>\n",
              "              "
            ]
          },
          "metadata": {}
        },
        {
          "output_type": "stream",
          "name": "stdout",
          "text": [
            "24\n"
          ]
        },
        {
          "output_type": "display_data",
          "data": {
            "text/plain": [
              "<IPython.lib.display.Audio object>"
            ],
            "text/html": [
              "\n",
              "                <audio  controls=\"controls\" autoplay=\"autoplay\">\n",
              "                    <source src=\"data:audio/x-wav;base64,//NExAAAAANIAUAAAMny+ILA3IzdxKAG+pgbHxKf4NsBwJf0yLm6y59N0EEC4aDnjJq/L6blxBAcZubkUIoa/007ciZPn0C4A/o4Pmbj//y5owbQenGzAScwaozlyKQC//NExFMRuW6YAZCAACZ1is3Ze7qCU1wU51dorF6jycGjGCP2nOXMW6pWAexP0FLRIF/NROMaZRBeC+NZ3neOsT8uwigtgsbxHJ8t7Y1qldotdJ+FEXoq87fPD6TLluzP//NExF8gwhaUAdl4AZf4tExNvUT++9/dLb3eG9xmj3WtXxf+7l91xX63iuZ/4+JckcreqqjRZ3GCcZWbANOytZiKI8t1pLDoqYtq/N6rNKYsktZV2qTlN3VwxFh7ViMF//NExC8Y6T6oAMYecQuD0yQCRcKpzIMyvPZcoYoJuvuagiXwrnV84UrErJrwYHywP8zGB9oHEn65a/seIkHyAdDdNOUgBrE6VpwCNBwWP0xk0IX5lQwUCaOpLOccJJGF//NExB4YAT6wAJ4ecfM5pwkIgfB/GGcce1juY4N2oR47S9z0UyGs8fdlcrVXeHVWud9vlc2qyJm6pj9MqAer+ggg2qfGYkt/hFbCr+F4ujfURoEPGmkuLUApc/rOylsk//NExBEV4Ta4AJYecIzc9dbsCRIiUVrj7M6fj/0xH/P8bkMvfhIogpJ7tiiOZaUFNVitThq1n0kTNXtGPeMSzMc4KmQ+s6ESanUliIDZTH8UU1ClvYd5aV4TbsZ8thFV//NExAwVidaoAMZOmF97Pls7zmDXpqUqZGujQY5/HHjtflto9B+OqFVGNYRPK6XpZvhW1TuHRZa8uA8gr0FPKhccPZqh5mrP7t79LtzS3VU6DxyIjNP1Kn5cCNDSdimI//NExAgTeS60AJYecOwFWi37ZGBVhDZ6ciDsFrEKrdSvSu9Ls9YMbLF8rcqY2oMYnhAhxMSsZGOLqaPiLjd90vjFM2rNEpClwHQsBWUO/o/Yx1e9+cwloEZorr6AVYqB//NExA0VmSqoAMPYcKmwl3FjBWsadIIDEBTgBkjjAMguY4VUo3NQI6NGwtJIknL5cIYIiDonjgHzBMO4Hu9yGsfuX2jNqPbDGwtaCg8sa9/tUt33IR1Kq41kbBC9LmNt//NExAkTmSKcAMPScGxRi9Yiw8a4AJExWF0T8B2AxIUcp3MyqfTKU0WGJuChZg4RNXchUaX0QhkUqNCVCyqUetjLSz1mkLKntDGp/+qlysUdfTVldO0Y00DrXo6kK5sz//NExA0SiRaEAMMGcCyXgCk1bJlrMR0qq1etbPXrWpbEKZ1EwCNavByUdlIKGcM4U6AiRIY00tq/c2JQmZdOg0SWmBbv///yPRUqFovhA7swBF3+j8Zl+6AKpt7ZMm5+//NExBURwRpkAMGMcNTVLb/uP/JErXKMOPUDJHA12Nxfbik3l5w6h7yTGuyPeocSKwNKxkJrMvO////4i21LAxCUFgwpYcY+iaWWSAlk1ZFqqOkmiyqXEaQuQcmpMxoY//NExCERgMpMAVQYAAjEOLAuxqguefoZ9hVqknFlW3rdSHHLYwMpvYM6v6lPX9T6apsjrucaMA+pzh0HSaMVq9+Xz2FPytYuXTwflrd0xbWpqMM5Zy2ntiwQBAASEx9V//NExC4dAxpIAZpYAX8RcTEjoLKJhytb4dF91SUIM2GjO+3Rwrx39P7ZTaqXUyHRPzdbu5jO3G+fNOK3vddxUfXTI573fPsdvjf26P2wpUMYcpYTZaBe3YqK77iwnupp//NExA0VsxaYAYpQAYLfc8wgFgdEoGQmoayycqM0QjAGCCLr+lWWRFTFNT/e/3O0/+mu65qJc7/+zM96mGGVclchKHoXITf//rVD0mG/mmGo5QmJTSSKEJL+Y4CnvVvb//NExAkTqwqkAcIoAV8zoaUsw4OMVKIWrW2J97//Tp/2T7f0bZGOrtnQ8lKnMyKYchXVylk6HzuryWUzLIZpigOBzERBR2DhA4UPiY88BBSngSUS3///z7/nxpCwo7xV//NExA0Usx6gABBWvO5f/6////+dnX8bfiq/lz5ua/7j4ayZ+puqz0XXD+7qn1TdkU17HWg087eUDsIOw8IkMP1jvM0rOk54yEdAfTEnLj6uaHEG//0/////Lvz///////NExA0TayKgABBOvP/9//q1krsrb1Y+9bnXVdHRGMY+zjljKjWcWOG5qlI1ImsgvFRYWhKC4RRqIR0wag9CIFgOAHA4GgtGgjioIhayCCf+3////8j+fL////////+l//NExBIRwx6gAChUvSmvdLG13vurHc86prI7Fsyh01kWpKlguEFhx0VhbdTjh85MTkwX4tkgixSIaLwSEALAiR8IBy/9F//z////+X///////t//++Yui30U5mqfZ2ZF//NExB4R6yKgAChUvLKbPNsrK6kBhx0eDEcJCIjPKkyjCaeK43AsF4ZBIJQkCoCCBTC0PxkSvQL/1//////9/////////T+n+6aVMueezdGd7dEd2o7ExyOxpRjzDlKG//NExCkRgx6gAAhUvZoxF5QkLjAVhcQiscQEgLwxEEC0CEeLILoqjQoNB/+rf////Ovr5/////////9Luu93RXzrzUQ+caaaY82jsZMdD0Oc8jNmaG1YaOJJYQAYLxeD//NExDYSixqcABBOvaF4kgeD4oIDAoBAWh4JgGAwHw8Cqgi/+v///+X7////5///3//r//evMW/o7PMPeeqqynZ504qXERzyZhsfNQ88gRiwXDWRQseLxgIxaJINFAvE//NExD4RcyKcABBOvMBoqYgPi8feHJ//////n/35///////6f//0s9unur70W81lTVXspKrnEqpOMY4w80ujkgniDc4ZEAniGExRbBUDeMRCDQTzhsPBUJDKCF/pt//5//NExEsRIyKcABBUvP//8v///P//////v8z61St02W1H1MLsSXzhyhtZrJPRy44KB8UD6g7FijQbAOIikJjCQ4LAOB/GwuID4PyiOmv/X////51f///7/////6WP/7HG//NExFkRIxqgABBOvdWN6rVPodpSZMMNqrqpU8xTkOVmVqC4aGDgiiIJQuCYHYIgJAgNBKMKGjUcLiceJiOPEXoIr//2/t//0///f/////t//21t7e2q0Xr76qlDrVNY//NExGcR4yKcAAhOvNOdjXcx8+zD04rGQ3ISMSwozwUieLJ4iCIXiQIYnC9CwYeVpgaFQWX/evAt+fm2z/fuPtD/8SZhbH3+P/25lRiw2bxBi5//71urExKxT+3///6H//NExHIQsxqUAUVQADjaB2audf1xn///3bs3gwITU9e69W6udQf////u+U/O4qFkcYC5lVq4esMRhVLFCy1U//////MM9U6GiPsmKACAkiIAvBUqYOD9/NRtbGpXC3NZ//NExIIiEupoAYl4AHFdSoa4+uoHhOKw1qMFhhxKwziqLF+UcSgmGX9JY6wV9Y9SY/qk3qqmFQCOaxVjUukuf/tG/5wvjBRMp+zVYyrDq51tnX2FRvWGsJqv/7e1L16T//NExEwXQv30AcgYATrqcMKMGFfkGcBGAnXCon+LBRR8XFs7teblS0ssUMFBAgaPLKCBOhkatbLOWWy/LLY5f///LJZ/2f/ZZKh////ZbL8WWyyyy2ORqygpZZZZLPss//NExEISwtFoADDGuZSPNZbP4sB1DkxBTUUzLjEwMKqqqqqqqqqqqqqqqqqqqqqqqqqqqqqqqqqqqqqqqqqqqqqqqqqqqqqqqqqqqqqqqqqqqqqqqqqqqqqqOlBIxzeq//NExEoAAANIAAAAAGOkxikKQvZkGmfiZCwZDo+JA2KCM4hNHjBtAjUTWZe9icJ1Hczc2F1//yMjIzSysRkTo8rEZo6WKxE6PKxDmjpYpjE6PKxDrBhYWokDIyqySoWo//NExJ0AAANIAAAAALNVKv0Wnd+r//rf7Nn+qR1VDkKMOczCwKcPiYOkAAotKwgEM8hZHORfxAjfAjx+ER4mAjLGAEfBkcPgZpHiI8D7DzPcf/t//dfhPb5B7vIlv6n1//NExKwAAANIAAAAAPnJb5zH+0j/uE/7sW/2dBPgbx3jhXCFXgsNgqBKyaJElt9yR3ckTYoKjRSQ0VFRJSQwKioio0FhJSYoKi5OGiv8539/+Y/+U3+NN8oVdzHH9zW///NExP8aSdVEAHpGmc07+sf+O//7f/9qTEFNRTMuMTAwqqqqqqqqqqqqqqqqqqqqqqqqqqqqqqqqqqqqqqqqqqqqqqqqqqqqqqqqqqqqqqqqqqqqqqqqqqqqTEFNRTMu//NExOgUOFXsAHmGJTEwMKqqqqqqqqqqqqqqqqqqqqqqqqqqqqqqqqqqqqqqqqqqqqqqqqqqqqqqqqqqqqqqqqqqqqqqqqqqqqqqqqqqqqqqqqqqqqqqqqqqqqqqqqqq//NExOoTkDnYAHvMBaqqqqqqqqqqqqqqqqqqqqqqqqqqqqqqqqqqqqqqqqqqqqqqqqqqqqqqqqqqqqqqqqqqqqqqqqqqqqqqqqqqqqqqqqqqqqqqqqqqqqqqqqqqqqqq//NExKwAAANIAAAAAKqqqqqqqqqqqqqqqqqqqqqqqqqqqqqqqqqqqqqqqqqqqqqqqqqqqqqqqqqqqqqqqqqqqqqqqqqqqqqqqqqqqqqqqqqqqqqqqqqqqqqqqqqqqqqq\" type=\"audio/x-wav\" />\n",
              "                    Your browser does not support the audio element.\n",
              "                </audio>\n",
              "              "
            ]
          },
          "metadata": {}
        },
        {
          "output_type": "stream",
          "name": "stdout",
          "text": [
            "25\n"
          ]
        },
        {
          "output_type": "display_data",
          "data": {
            "text/plain": [
              "<IPython.lib.display.Audio object>"
            ],
            "text/html": [
              "\n",
              "                <audio  controls=\"controls\" autoplay=\"autoplay\">\n",
              "                    <source src=\"data:audio/x-wav;base64,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\" type=\"audio/x-wav\" />\n",
              "                    Your browser does not support the audio element.\n",
              "                </audio>\n",
              "              "
            ]
          },
          "metadata": {}
        },
        {
          "output_type": "stream",
          "name": "stdout",
          "text": [
            "26\n"
          ]
        },
        {
          "output_type": "display_data",
          "data": {
            "text/plain": [
              "<IPython.lib.display.Audio object>"
            ],
            "text/html": [
              "\n",
              "                <audio  controls=\"controls\" autoplay=\"autoplay\">\n",
              "                    <source src=\"data:audio/x-wav;base64,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\" type=\"audio/x-wav\" />\n",
              "                    Your browser does not support the audio element.\n",
              "                </audio>\n",
              "              "
            ]
          },
          "metadata": {}
        }
      ]
    },
    {
      "cell_type": "code",
      "source": [
        "count=0\n",
        "for i in random_array:\n",
        "      voice=list1[i]\n",
        "      tts = gTTS(\"{}\".format(voice)) \n",
        "      tts.save('1.wav')\n",
        "      sound_file = '1.wav'\n",
        "      wn = Audio(sound_file, autoplay=True)\n",
        "      display(wn)##\"\"\"\n",
        "      print(\"Guess the alphabet(in capital)?\")\n",
        "      alpha = input()\n",
        "      if alpha==list1[i]:\n",
        "        print(\"Good go ahead!!\")\n",
        "        count+=1\n",
        "      else:\n",
        "        print(\"Oops you got it wrong! Try again...\")\n",
        "      time.sleep(2)\n",
        "print(\"Your total score out of 26: \",count)   \n",
        "if count<(n/2):\n",
        "  print(\"Need improvement\")\n",
        "\n",
        "else:\n",
        "  print(\"Keep it up\") "
      ],
      "metadata": {
        "colab": {
          "base_uri": "https://localhost:8080/",
          "height": 603
        },
        "id": "GAduPGyswBxO",
        "outputId": "f061a131-92fd-4aaf-8202-bfc5b7d5cea9"
      },
      "execution_count": null,
      "outputs": [
        {
          "output_type": "display_data",
          "data": {
            "text/plain": [
              "<IPython.lib.display.Audio object>"
            ],
            "text/html": [
              "\n",
              "                <audio  controls=\"controls\" autoplay=\"autoplay\">\n",
              "                    <source src=\"data:audio/x-wav;base64,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\" type=\"audio/x-wav\" />\n",
              "                    Your browser does not support the audio element.\n",
              "                </audio>\n",
              "              "
            ]
          },
          "metadata": {}
        },
        {
          "output_type": "stream",
          "name": "stdout",
          "text": [
            "Guess the alphabet(in capital)?\n",
            "S\n",
            "Good go ahead!!\n"
          ]
        },
        {
          "output_type": "display_data",
          "data": {
            "text/plain": [
              "<IPython.lib.display.Audio object>"
            ],
            "text/html": [
              "\n",
              "                <audio  controls=\"controls\" autoplay=\"autoplay\">\n",
              "                    <source src=\"data:audio/x-wav;base64,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\" type=\"audio/x-wav\" />\n",
              "                    Your browser does not support the audio element.\n",
              "                </audio>\n",
              "              "
            ]
          },
          "metadata": {}
        },
        {
          "output_type": "stream",
          "name": "stdout",
          "text": [
            "Guess the alphabet(in capital)?\n",
            "B\n",
            "Oops you got it wrong! Try again...\n"
          ]
        },
        {
          "output_type": "display_data",
          "data": {
            "text/plain": [
              "<IPython.lib.display.Audio object>"
            ],
            "text/html": [
              "\n",
              "                <audio  controls=\"controls\" autoplay=\"autoplay\">\n",
              "                    <source src=\"data:audio/x-wav;base64,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\" type=\"audio/x-wav\" />\n",
              "                    Your browser does not support the audio element.\n",
              "                </audio>\n",
              "              "
            ]
          },
          "metadata": {}
        },
        {
          "output_type": "stream",
          "name": "stdout",
          "text": [
            "Guess the alphabet(in capital)?\n",
            "J\n",
            "Good go ahead!!\n"
          ]
        },
        {
          "output_type": "display_data",
          "data": {
            "text/plain": [
              "<IPython.lib.display.Audio object>"
            ],
            "text/html": [
              "\n",
              "                <audio  controls=\"controls\" autoplay=\"autoplay\">\n",
              "                    <source src=\"data:audio/x-wav;base64,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\" type=\"audio/x-wav\" />\n",
              "                    Your browser does not support the audio element.\n",
              "                </audio>\n",
              "              "
            ]
          },
          "metadata": {}
        },
        {
          "output_type": "stream",
          "name": "stdout",
          "text": [
            "Guess the alphabet(in capital)?\n",
            "U\n",
            "Good go ahead!!\n"
          ]
        },
        {
          "output_type": "display_data",
          "data": {
            "text/plain": [
              "<IPython.lib.display.Audio object>"
            ],
            "text/html": [
              "\n",
              "                <audio  controls=\"controls\" autoplay=\"autoplay\">\n",
              "                    <source src=\"data:audio/x-wav;base64,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\" type=\"audio/x-wav\" />\n",
              "                    Your browser does not support the audio element.\n",
              "                </audio>\n",
              "              "
            ]
          },
          "metadata": {}
        },
        {
          "output_type": "stream",
          "name": "stdout",
          "text": [
            "Guess the alphabet(in capital)?\n",
            "P\n",
            "Oops you got it wrong! Try again...\n",
            "Your total score out of 26:  3\n",
            "Good going! Keep it up\n"
          ]
        }
      ]
    }
  ]
}