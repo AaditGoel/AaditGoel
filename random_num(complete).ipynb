{
  "nbformat": 4,
  "nbformat_minor": 0,
  "metadata": {
    "colab": {
      "provenance": [],
      "authorship_tag": "ABX9TyPF/ke3fDrrtwdtTe9nkQDO",
      "include_colab_link": true
    },
    "kernelspec": {
      "name": "python3",
      "display_name": "Python 3"
    },
    "language_info": {
      "name": "python"
    }
  },
  "cells": [
    {
      "cell_type": "markdown",
      "metadata": {
        "id": "view-in-github",
        "colab_type": "text"
      },
      "source": [
        "<a href=\"https://colab.research.google.com/github/AaditGoel/TeamComputeKit/blob/main/random_num(complete).ipynb\" target=\"_parent\"><img src=\"https://colab.research.google.com/assets/colab-badge.svg\" alt=\"Open In Colab\"/></a>"
      ]
    },
    {
      "cell_type": "code",
      "source": [
        "!pip install qiskit"
      ],
      "metadata": {
        "colab": {
          "base_uri": "https://localhost:8080/"
        },
        "id": "57dwAJHIG2oj",
        "outputId": "1d360aef-1e57-492c-eb51-65d019ef486c"
      },
      "execution_count": null,
      "outputs": [
        {
          "output_type": "stream",
          "name": "stdout",
          "text": [
            "5Looking in indexes: https://pypi.org/simple, https://us-python.pkg.dev/colab-wheels/public/simple/\n",
            "Requirement already satisfied: qiskit in /usr/local/lib/python3.7/dist-packages (0.39.2)\n",
            "Requirement already satisfied: qiskit-ibmq-provider==0.19.2 in /usr/local/lib/python3.7/dist-packages (from qiskit) (0.19.2)\n",
            "Requirement already satisfied: qiskit-terra==0.22.2 in /usr/local/lib/python3.7/dist-packages (from qiskit) (0.22.2)\n",
            "Requirement already satisfied: qiskit-aer==0.11.1 in /usr/local/lib/python3.7/dist-packages (from qiskit) (0.11.1)\n",
            "Requirement already satisfied: numpy>=1.16.3 in /usr/local/lib/python3.7/dist-packages (from qiskit-aer==0.11.1->qiskit) (1.21.6)\n",
            "Requirement already satisfied: scipy>=1.0 in /usr/local/lib/python3.7/dist-packages (from qiskit-aer==0.11.1->qiskit) (1.7.3)\n",
            "Requirement already satisfied: urllib3>=1.21.1 in /usr/local/lib/python3.7/dist-packages (from qiskit-ibmq-provider==0.19.2->qiskit) (1.24.3)\n",
            "Requirement already satisfied: python-dateutil>=2.8.0 in /usr/local/lib/python3.7/dist-packages (from qiskit-ibmq-provider==0.19.2->qiskit) (2.8.2)\n",
            "Requirement already satisfied: websockets>=10.0 in /usr/local/lib/python3.7/dist-packages (from qiskit-ibmq-provider==0.19.2->qiskit) (10.4)\n",
            "Requirement already satisfied: requests-ntlm>=1.1.0 in /usr/local/lib/python3.7/dist-packages (from qiskit-ibmq-provider==0.19.2->qiskit) (1.1.0)\n",
            "Requirement already satisfied: requests>=2.19 in /usr/local/lib/python3.7/dist-packages (from qiskit-ibmq-provider==0.19.2->qiskit) (2.23.0)\n",
            "Requirement already satisfied: websocket-client>=1.0.1 in /usr/local/lib/python3.7/dist-packages (from qiskit-ibmq-provider==0.19.2->qiskit) (1.4.2)\n",
            "Requirement already satisfied: dill>=0.3 in /usr/local/lib/python3.7/dist-packages (from qiskit-terra==0.22.2->qiskit) (0.3.6)\n",
            "Requirement already satisfied: retworkx>=0.11.0 in /usr/local/lib/python3.7/dist-packages (from qiskit-terra==0.22.2->qiskit) (0.12.0)\n",
            "Requirement already satisfied: importlib-metadata<5.0 in /usr/local/lib/python3.7/dist-packages (from qiskit-terra==0.22.2->qiskit) (4.13.0)\n",
            "Requirement already satisfied: symengine>=0.9 in /usr/local/lib/python3.7/dist-packages (from qiskit-terra==0.22.2->qiskit) (0.9.2)\n",
            "Requirement already satisfied: stevedore>=3.0.0 in /usr/local/lib/python3.7/dist-packages (from qiskit-terra==0.22.2->qiskit) (3.5.2)\n",
            "Requirement already satisfied: tweedledum<2.0,>=1.1 in /usr/local/lib/python3.7/dist-packages (from qiskit-terra==0.22.2->qiskit) (1.1.1)\n",
            "Requirement already satisfied: sympy>=1.3 in /usr/local/lib/python3.7/dist-packages (from qiskit-terra==0.22.2->qiskit) (1.7.1)\n",
            "Requirement already satisfied: ply>=3.10 in /usr/local/lib/python3.7/dist-packages (from qiskit-terra==0.22.2->qiskit) (3.11)\n",
            "Requirement already satisfied: shared-memory38 in /usr/local/lib/python3.7/dist-packages (from qiskit-terra==0.22.2->qiskit) (0.1.2)\n",
            "Requirement already satisfied: typing-extensions in /usr/local/lib/python3.7/dist-packages (from qiskit-terra==0.22.2->qiskit) (4.1.1)\n",
            "Requirement already satisfied: psutil>=5 in /usr/local/lib/python3.7/dist-packages (from qiskit-terra==0.22.2->qiskit) (5.4.8)\n",
            "Requirement already satisfied: zipp>=0.5 in /usr/local/lib/python3.7/dist-packages (from importlib-metadata<5.0->qiskit-terra==0.22.2->qiskit) (3.10.0)\n",
            "Requirement already satisfied: six>=1.5 in /usr/local/lib/python3.7/dist-packages (from python-dateutil>=2.8.0->qiskit-ibmq-provider==0.19.2->qiskit) (1.15.0)\n",
            "Requirement already satisfied: idna<3,>=2.5 in /usr/local/lib/python3.7/dist-packages (from requests>=2.19->qiskit-ibmq-provider==0.19.2->qiskit) (2.10)\n",
            "Requirement already satisfied: chardet<4,>=3.0.2 in /usr/local/lib/python3.7/dist-packages (from requests>=2.19->qiskit-ibmq-provider==0.19.2->qiskit) (3.0.4)\n",
            "Requirement already satisfied: certifi>=2017.4.17 in /usr/local/lib/python3.7/dist-packages (from requests>=2.19->qiskit-ibmq-provider==0.19.2->qiskit) (2022.9.24)\n",
            "Requirement already satisfied: ntlm-auth>=1.0.2 in /usr/local/lib/python3.7/dist-packages (from requests-ntlm>=1.1.0->qiskit-ibmq-provider==0.19.2->qiskit) (1.5.0)\n",
            "Requirement already satisfied: cryptography>=1.3 in /usr/local/lib/python3.7/dist-packages (from requests-ntlm>=1.1.0->qiskit-ibmq-provider==0.19.2->qiskit) (38.0.3)\n",
            "Requirement already satisfied: cffi>=1.12 in /usr/local/lib/python3.7/dist-packages (from cryptography>=1.3->requests-ntlm>=1.1.0->qiskit-ibmq-provider==0.19.2->qiskit) (1.15.1)\n",
            "Requirement already satisfied: pycparser in /usr/local/lib/python3.7/dist-packages (from cffi>=1.12->cryptography>=1.3->requests-ntlm>=1.1.0->qiskit-ibmq-provider==0.19.2->qiskit) (2.21)\n",
            "Requirement already satisfied: rustworkx==0.12.0 in /usr/local/lib/python3.7/dist-packages (from retworkx>=0.11.0->qiskit-terra==0.22.2->qiskit) (0.12.0)\n",
            "Requirement already satisfied: pbr!=2.1.0,>=2.0.0 in /usr/local/lib/python3.7/dist-packages (from stevedore>=3.0.0->qiskit-terra==0.22.2->qiskit) (5.11.0)\n",
            "Requirement already satisfied: mpmath>=0.19 in /usr/local/lib/python3.7/dist-packages (from sympy>=1.3->qiskit-terra==0.22.2->qiskit) (1.2.1)\n"
          ]
        }
      ]
    },
    {
      "cell_type": "code",
      "source": [
        "from qiskit import QuantumRegister, ClassicalRegister, QuantumCircuit, execute\n",
        "import numpy as np\n",
        "cir=QuantumCircuit()"
      ],
      "metadata": {
        "id": "diYQKJUmERSK"
      },
      "execution_count": null,
      "outputs": []
    },
    {
      "cell_type": "code",
      "source": [
        "qr = QuantumRegister(3,'qr')\n",
        "cir.add_register(qr)\n",
        "cr = ClassicalRegister(3,'cr')\n",
        "cir.add_register(cr)\n",
        "cir.h(qr)\n",
        "cir.measure(qr,cr)\n",
        "cir.draw()"
      ],
      "metadata": {
        "colab": {
          "base_uri": "https://localhost:8080/",
          "height": 217
        },
        "id": "-ZSAjCwxH7s1",
        "outputId": "4604463d-ffc5-41ca-99c2-e6ee4c9f2f9d"
      },
      "execution_count": null,
      "outputs": [
        {
          "output_type": "execute_result",
          "data": {
            "text/plain": [
              "      ┌───┐┌─┐      \n",
              "qr_0: ┤ H ├┤M├──────\n",
              "      ├───┤└╥┘┌─┐   \n",
              "qr_1: ┤ H ├─╫─┤M├───\n",
              "      ├───┤ ║ └╥┘┌─┐\n",
              "qr_2: ┤ H ├─╫──╫─┤M├\n",
              "      └───┘ ║  ║ └╥┘\n",
              "cr_0: ══════╩══╬══╬═\n",
              "               ║  ║ \n",
              "cr_1: ═════════╩══╬═\n",
              "                  ║ \n",
              "cr_2: ════════════╩═\n",
              "                    "
            ],
            "text/html": [
              "<pre style=\"word-wrap: normal;white-space: pre;background: #fff0;line-height: 1.1;font-family: &quot;Courier New&quot;,Courier,monospace\">      ┌───┐┌─┐      \n",
              "qr_0: ┤ H ├┤M├──────\n",
              "      ├───┤└╥┘┌─┐   \n",
              "qr_1: ┤ H ├─╫─┤M├───\n",
              "      ├───┤ ║ └╥┘┌─┐\n",
              "qr_2: ┤ H ├─╫──╫─┤M├\n",
              "      └───┘ ║  ║ └╥┘\n",
              "cr_0: ══════╩══╬══╬═\n",
              "               ║  ║ \n",
              "cr_1: ═════════╩══╬═\n",
              "                  ║ \n",
              "cr_2: ════════════╩═\n",
              "                    </pre>"
            ]
          },
          "metadata": {},
          "execution_count": 70
        }
      ]
    },
    {
      "cell_type": "code",
      "source": [
        "from qiskit import Aer\n",
        "def num_generator():\n",
        " def random_n():\n",
        "  backend=Aer.get_backend('statevector_simulator')\n",
        "  job = execute(cir, backend, shots=1)\n",
        "  counts = job.result().get_counts(cir)\n",
        "  return int(list(counts.keys())[0],2)\n",
        " num=random_n()\n",
        " while num==0 or num==7 :\n",
        "  num=random_n()\n",
        " return num \n",
        " "
      ],
      "metadata": {
        "id": "VwiGzJnlJO8B"
      },
      "execution_count": null,
      "outputs": []
    },
    {
      "cell_type": "code",
      "source": [
        "print('input no. of digits')\n",
        "n=int(input())\n",
        "random_array=[0]*n\n",
        "for i in range(n):\n",
        " random_array[i]=num_generator()"
      ],
      "metadata": {
        "colab": {
          "base_uri": "https://localhost:8080/"
        },
        "id": "1n6O7mBgHjHB",
        "outputId": "702fb5db-6332-467c-c632-7255311303ec"
      },
      "execution_count": null,
      "outputs": [
        {
          "name": "stdout",
          "output_type": "stream",
          "text": [
            "input no. of digits\n",
            "10\n"
          ]
        }
      ]
    },
    {
      "cell_type": "code",
      "source": [
        "print(random_array)"
      ],
      "metadata": {
        "id": "r-js3K7AG1Mg",
        "colab": {
          "base_uri": "https://localhost:8080/"
        },
        "outputId": "07dfce95-3485-448d-9fa5-0ad87a0b8f95"
      },
      "execution_count": null,
      "outputs": [
        {
          "output_type": "stream",
          "name": "stdout",
          "text": [
            "[4, 4, 2, 4, 2]\n"
          ]
        }
      ]
    },
    {
      "cell_type": "code",
      "source": [
        "k=-1\n",
        "number=0\n",
        "dummy=np.flip(random_array)\n",
        "for i in dummy:\n",
        " k=k+1\n",
        " number=number+i*(10**k)\n",
        "print(number)"
      ],
      "metadata": {
        "colab": {
          "base_uri": "https://localhost:8080/"
        },
        "id": "D-kLH2J57DWp",
        "outputId": "c8a811cd-c9dc-4192-a3fe-284cb3727616"
      },
      "execution_count": null,
      "outputs": [
        {
          "output_type": "stream",
          "name": "stdout",
          "text": [
            "6435423256\n"
          ]
        }
      ]
    },
    {
      "cell_type": "code",
      "source": [
        "!pip install pygame"
      ],
      "metadata": {
        "id": "SFQtdbDxHRJz",
        "colab": {
          "base_uri": "https://localhost:8080/"
        },
        "outputId": "9f9af5b5-afd0-47e3-f921-51348060963a"
      },
      "execution_count": null,
      "outputs": [
        {
          "output_type": "stream",
          "name": "stdout",
          "text": [
            "Looking in indexes: https://pypi.org/simple, https://us-python.pkg.dev/colab-wheels/public/simple/\n",
            "Collecting pygame\n",
            "  Downloading pygame-2.1.2-cp37-cp37m-manylinux_2_17_x86_64.manylinux2014_x86_64.whl (21.8 MB)\n",
            "\u001b[K     |████████████████████████████████| 21.8 MB 3.0 MB/s \n",
            "\u001b[?25hInstalling collected packages: pygame\n",
            "Successfully installed pygame-2.1.2\n"
          ]
        }
      ]
    },
    {
      "cell_type": "code",
      "source": [
        "!pip install gtts"
      ],
      "metadata": {
        "colab": {
          "base_uri": "https://localhost:8080/"
        },
        "id": "KSlcSnO9xQvz",
        "outputId": "cd0bc968-4fb9-4248-dc87-d3bbac0eed0e"
      },
      "execution_count": null,
      "outputs": [
        {
          "output_type": "stream",
          "name": "stdout",
          "text": [
            "Looking in indexes: https://pypi.org/simple, https://us-python.pkg.dev/colab-wheels/public/simple/\n",
            "Collecting gtts\n",
            "  Downloading gTTS-2.2.4-py3-none-any.whl (26 kB)\n",
            "Requirement already satisfied: click in /usr/local/lib/python3.7/dist-packages (from gtts) (7.1.2)\n",
            "Requirement already satisfied: six in /usr/local/lib/python3.7/dist-packages (from gtts) (1.15.0)\n",
            "Requirement already satisfied: requests in /usr/local/lib/python3.7/dist-packages (from gtts) (2.23.0)\n",
            "Requirement already satisfied: urllib3!=1.25.0,!=1.25.1,<1.26,>=1.21.1 in /usr/local/lib/python3.7/dist-packages (from requests->gtts) (1.24.3)\n",
            "Requirement already satisfied: idna<3,>=2.5 in /usr/local/lib/python3.7/dist-packages (from requests->gtts) (2.10)\n",
            "Requirement already satisfied: chardet<4,>=3.0.2 in /usr/local/lib/python3.7/dist-packages (from requests->gtts) (3.0.4)\n",
            "Requirement already satisfied: certifi>=2017.4.17 in /usr/local/lib/python3.7/dist-packages (from requests->gtts) (2022.9.24)\n",
            "Installing collected packages: gtts\n",
            "Successfully installed gtts-2.2.4\n"
          ]
        }
      ]
    },
    {
      "cell_type": "code",
      "source": [
        "from gtts import gTTS\n",
        "from IPython.display import Audio\n",
        "from IPython.display import display\n",
        "import numpy as np\n",
        "from numpy import random\n",
        "import time\n",
        "import datetime\n",
        "list1 = np.array([\"none\",\"Sorted\",\"andhhi bahegi\",\"CG\",\"CP\",\"Chaappo\",\"Dasssi\"])\n",
        "p=0\n",
        "for voice in list1 :\n",
        "      if voice==\"none\":\n",
        "        continue\n",
        "      p=p+1 \n",
        "      tts = gTTS(\"{}\".format(voice)) \n",
        "      tts.save('1.wav')\n",
        "      sound_file = '1.wav'\n",
        "      wn = Audio(sound_file, autoplay=True) ##\n",
        "      print(p)\n",
        "      display(wn)##\"\"\"\n",
        "      time.sleep(2)"
      ],
      "metadata": {
        "colab": {
          "base_uri": "https://localhost:8080/",
          "height": 472
        },
        "id": "wvTB4DiV4Zl8",
        "outputId": "49185ac8-6a4d-44d6-d902-878ca7ddc833"
      },
      "execution_count": null,
      "outputs": [
        {
          "output_type": "stream",
          "name": "stdout",
          "text": [
            "1\n"
          ]
        },
        {
          "output_type": "display_data",
          "data": {
            "text/plain": [
              "<IPython.lib.display.Audio object>"
            ],
            "text/html": [
              "\n",
              "                <audio  controls=\"controls\" autoplay=\"autoplay\">\n",
              "                    <source src=\"data:audio/x-wav;base64,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\" type=\"audio/x-wav\" />\n",
              "                    Your browser does not support the audio element.\n",
              "                </audio>\n",
              "              "
            ]
          },
          "metadata": {}
        },
        {
          "output_type": "stream",
          "name": "stdout",
          "text": [
            "2\n"
          ]
        },
        {
          "output_type": "display_data",
          "data": {
            "text/plain": [
              "<IPython.lib.display.Audio object>"
            ],
            "text/html": [
              "\n",
              "                <audio  controls=\"controls\" autoplay=\"autoplay\">\n",
              "                    <source src=\"data:audio/x-wav;base64,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\" type=\"audio/x-wav\" />\n",
              "                    Your browser does not support the audio element.\n",
              "                </audio>\n",
              "              "
            ]
          },
          "metadata": {}
        },
        {
          "output_type": "stream",
          "name": "stdout",
          "text": [
            "3\n"
          ]
        },
        {
          "output_type": "display_data",
          "data": {
            "text/plain": [
              "<IPython.lib.display.Audio object>"
            ],
            "text/html": [
              "\n",
              "                <audio  controls=\"controls\" autoplay=\"autoplay\">\n",
              "                    <source src=\"data:audio/x-wav;base64,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\" type=\"audio/x-wav\" />\n",
              "                    Your browser does not support the audio element.\n",
              "                </audio>\n",
              "              "
            ]
          },
          "metadata": {}
        },
        {
          "output_type": "stream",
          "name": "stdout",
          "text": [
            "4\n"
          ]
        },
        {
          "output_type": "display_data",
          "data": {
            "text/plain": [
              "<IPython.lib.display.Audio object>"
            ],
            "text/html": [
              "\n",
              "                <audio  controls=\"controls\" autoplay=\"autoplay\">\n",
              "                    <source src=\"data:audio/x-wav;base64,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\" type=\"audio/x-wav\" />\n",
              "                    Your browser does not support the audio element.\n",
              "                </audio>\n",
              "              "
            ]
          },
          "metadata": {}
        },
        {
          "output_type": "stream",
          "name": "stdout",
          "text": [
            "5\n"
          ]
        },
        {
          "output_type": "display_data",
          "data": {
            "text/plain": [
              "<IPython.lib.display.Audio object>"
            ],
            "text/html": [
              "\n",
              "                <audio  controls=\"controls\" autoplay=\"autoplay\">\n",
              "                    <source src=\"data:audio/x-wav;base64,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\" type=\"audio/x-wav\" />\n",
              "                    Your browser does not support the audio element.\n",
              "                </audio>\n",
              "              "
            ]
          },
          "metadata": {}
        },
        {
          "output_type": "stream",
          "name": "stdout",
          "text": [
            "6\n"
          ]
        },
        {
          "output_type": "display_data",
          "data": {
            "text/plain": [
              "<IPython.lib.display.Audio object>"
            ],
            "text/html": [
              "\n",
              "                <audio  controls=\"controls\" autoplay=\"autoplay\">\n",
              "                    <source src=\"data:audio/x-wav;base64,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\" type=\"audio/x-wav\" />\n",
              "                    Your browser does not support the audio element.\n",
              "                </audio>\n",
              "              "
            ]
          },
          "metadata": {}
        }
      ]
    },
    {
      "cell_type": "code",
      "source": [
        "for i in random_array:\n",
        "      voice=list1[i]\n",
        "      tts = gTTS(\"{}\".format(voice)) \n",
        "      tts.save('1.wav')\n",
        "      sound_file = '1.wav'\n",
        "      wn = Audio(sound_file, autoplay=True)\n",
        "      display(wn)##\"\"\"\n",
        "      time.sleep(2)\n",
        "      "
      ],
      "metadata": {
        "colab": {
          "base_uri": "https://localhost:8080/",
          "height": 603
        },
        "id": "dZZpkBDPxY4w",
        "outputId": "c0005e21-a7a2-4f8e-bca7-41cebd07d21a"
      },
      "execution_count": null,
      "outputs": [
        {
          "output_type": "display_data",
          "data": {
            "text/plain": [
              "<IPython.lib.display.Audio object>"
            ],
            "text/html": [
              "\n",
              "                <audio  controls=\"controls\" autoplay=\"autoplay\">\n",
              "                    <source src=\"data:audio/x-wav;base64,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\" type=\"audio/x-wav\" />\n",
              "                    Your browser does not support the audio element.\n",
              "                </audio>\n",
              "              "
            ]
          },
          "metadata": {}
        },
        {
          "output_type": "display_data",
          "data": {
            "text/plain": [
              "<IPython.lib.display.Audio object>"
            ],
            "text/html": [
              "\n",
              "                <audio  controls=\"controls\" autoplay=\"autoplay\">\n",
              "                    <source src=\"data:audio/x-wav;base64,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\" type=\"audio/x-wav\" />\n",
              "                    Your browser does not support the audio element.\n",
              "                </audio>\n",
              "              "
            ]
          },
          "metadata": {}
        },
        {
          "output_type": "display_data",
          "data": {
            "text/plain": [
              "<IPython.lib.display.Audio object>"
            ],
            "text/html": [
              "\n",
              "                <audio  controls=\"controls\" autoplay=\"autoplay\">\n",
              "                    <source src=\"data:audio/x-wav;base64,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\" type=\"audio/x-wav\" />\n",
              "                    Your browser does not support the audio element.\n",
              "                </audio>\n",
              "              "
            ]
          },
          "metadata": {}
        },
        {
          "output_type": "display_data",
          "data": {
            "text/plain": [
              "<IPython.lib.display.Audio object>"
            ],
            "text/html": [
              "\n",
              "                <audio  controls=\"controls\" autoplay=\"autoplay\">\n",
              "                    <source src=\"data:audio/x-wav;base64,//NExAAQIQXIAUMYAHdzQAABFAAAq5//E+8d34iFUQq5/+hbuaAYGaIXwDd+v///EDgQlz4jeQqB94IBgSHGlBoIO+CA0EFviQMLB+H1/wMHU3J1xQD/3Hkzztf/4bl7//NExBIWuyZIAZpQAM1rjRXFuN/o0Lcfi3/PzGG5EQfv81CQhLiI/n/heINAUCLUPv+e7fi2LA0ICQRAvG5v//3+4/Lk+jHnnGL//+3+32ZaGMynmkYlIGBlqKQRNXf3//NExAoTWwKoAYc4Adv23TT/teqfzHMaYw8PIdn0VZ9zSY3ImjcmgKZ/8cYaKYXnzxsD8uUPGt//3arv8wdMPYtUw9nP//9sz+f6oSyJ3cLVH/6v//3//W/MovQ+Y10M//NExA8UytawAcI4AEJk0MoYQMUoRB+Migy5VkUVsTOB+eKw2I5JweHnMOopOXIHFj7mXL5hVrmONB8nIVTobRKfTf9a9qJMa/ZUH7KgDMvLqg/8kwf/P//75zgDISvu//NExA4VMeq4AAhSmZZBKFdmRAgICdRkMD8FWMnt5UrecI1okSkwbI8mkTwXlFJZRlulZ+nQlGTBwdKJ67fot2EdEIDzJuT8XYa/q3PGGVTz+p5aa/OM3Cb6W+d70f1n//NExAwUQeK4AAiMmLqcIUdTKxVS6KteQiiaWtAxJFQGkBHmUzN/tTruUHRQJHJJQS2NeHqGpmedtkqFXBkRH3KeL1po7NbaFPh1TWpUFRqlGpbT367RizDgwPYuvQBB//NExA4V8YqoAMMMlAYBtY2kPS3E4+2VgQIm/e52f/NGDxfOMLIllTxlYb3/bcVpyZPU379H6RI5uHJEZz1X//7O/12OpIkFQVkpHPFBRlndBr///f+m138aAcwmd3m6//NExAkRSQa0AMYecIKiV7l+2EGSSNNrtKjuaTtQn9X2QJ8y79zsBxpuvRZLx4s2fdnfZ+ZZYv/8rFfXo8Eijj1hZ9P063fvAtX0AF4WBNsGnX1/tkErvblVjxUal5er//NExBYRGS64AIYacFuZGVIDJyv0cIArGZgaONYShQ5dIZvy6m9Sycl0SadssyNfOh+s5VkXyLlC/r1KbohBgLjszglGh4Z4S8cWZfR4V1DTShBz8uwtVxEWrHPxwjws//NExCQReSa4AG5icAgXBFHUtIjTd8xOGjaJxN+yfUb6jIvHjRxI/Wz0pUCm6lHH/wzdkXRe3u46Q8vXudvF9jcElU7Ryh5gr0JMOpQVXrXSXrrpFgTYAWRgjV1mqJs3//NExDERiS60AMZacKL+pukk3RZPUiYmDirXlkaXZ+Mb9KpHrF4BTl5a1EPLUpx2M5W34VoUrgilkb6kIQXjW/Tyq7KhwBdZcLpgOEJqMAeqWYlhp6k36S36TJvoopM1//NExD0RcTawAI5acEkdP1N308yYoozXz1MpDnK40+3KHjXeIkhbKBJ+WNKJVhzzjgzt2ypUFRQkactxX+tCMEGCs8Mq03GaXn5fWs/+l+hjehn8okyiUN///+6hXegw//NExEoSQaKgAM6ElBi1ysVKvE1JO6UxEnyzQyCa1JNas9oKaxcEusAWAqeGQqbLpCwboM4fZ1oQixMWxnQ1lgvo3CrmHsie/JTyv2q54sSf//K1AiI02pzFhGcbJhwl//NExFQR2J5oAMZeTBaGGGRbDUlwDqZ5nz5OpJpYRsTlI/EtR78/VCmDyj59e0mSj4wfFOSb2zSa9tK3WNs0eX7b6X9tDqBVHqUz04VCP2/MYbGzWW541pcPQx8ytO7s//NExF8SIJpEAMvMTM/3c3wZLUbStGnPsjblEFJGa3pY1Fh/Y5zqMacXlG1H8m65P2fUnQj1LH6VKj01d8PXIflPYhXWhopzkM8Q9qcrlQMwSbORocIOYNmyBzalpcLR//NExGkQiPpEANGEcDhAdvATgyFSjjYvOXVzjzCNE4smicPsGmLWV1n239XFoXHvIVEjIGXKASTRPL9gFE1QwsUNTlkISnIKsnniexgFY0821Hluipe+kpXOqdE9Jkyx//NExHkSeLJQAMGGTDeFItk7SHUsxult0nNw3HJTI6f+mFnBiex2m7T5MvT7JsQFrrP7bE8+oXDSnnZ/4eIpB7adel59di9ULn0vDA948hepHoze9mO9Hb7/9DlnrGGG//NExIIhcdJ4AM4MlX/TJ+mAZS3YqjTK8DOggMOUSBpw/LwGgDFhAtGM9hBQIKijLKDgRhEeIgaJSK4cqARFWAHEAYbMgVFAIChmjImTAL9hzjpwOyuH6a9T5540lJhz//NExE8hOeKIANaQmCvc/O/vO5oe6FsPGhYF40PhE6h+b//67R1GVjGFHha6T/4nLRZzIijb1E1z+fF//895NZtrkqbGgGRYHGxWJFUMcYuup3RGJOacAQpkxjERgQah//NExB0ZKSKYANaYcC8JiTZiQSdTtqLgYMqZQJSoFIYgnaARq3l0YngNafeW2vH20raemd/6Tf6f7l+WRQuvPgQMIGE1gNtTX1P9TmsV7/T////sVdYTIXyNZrPiY5pM//NExAsUGR6kAMZOcNA+Bm8nlZQbPEB/oixsHET1VVdTbOnegINir/iFFTasLAcAFKcKSKIOtU57Ptz9FR1dmiONHGjj+zuWZUY8oe/6v////SqZsRMAWu3SRgFiSuNA//NExA0UeSacAM5WcEWCIazhkvMDva2UYfFgYxNp4QXhIQUtFE0AgkeOZ3Tg2WWUgnHpUe6T6/LviYZTuXcRFsYbRjvJqCSbHKZpHCAuGwy714hnQCLUi2QIJ0zkRIvN//NExA4TuR6gAMYQcAbQqs4kdeMhXag11eAQ15aitiV1Zuocp1oaZiNCFnAed2ItQQ3LXuvMfTcSvC1oLWedBGlTLvPgw7+tCP/////Sy5QmPvOing4vugfDzEGgHeQX//NExBIRYSKcAMZQcGDCZxwaYREWfgNGqV1guTDT/xIgGW8QOCLUtbhea9/hfpu2vhflXLNwe7Lcs0iCB78i8Vq3qDQZFNygZoGmKOFEbblPGZm49HDjdkF6sPItNQly//NExB8RkR6YAM5OcLK2l2UA5CA3EWDFhbDgOONHBcs1rG/Tvm91nPKkWAiGXL7Zgv/tSqpxJW2Qwq6lENFFIk6QFih0VZgYTEJAnxh4WPW6MwwWbl5KJV47CwYYPhWS//NExCsSCSqQAM6OcB+5tRwy0TPQlnattpztKGtOIq7kYrRoxguLmf+K1bMCO+b1c0NTsdxiymygJG0NI+xx1IcEh59Sg3TxIy47CCRAXlW3EMmCjOLiy+yUFWIpR7Dq//NExDUSkSKEANaKcJdP75Urmc44STo1bxUGf//////9utUZDseZSepnLl8mC5kyqRkBARJ15EoJ8YoLu5MioUPKYmFG4D+CAFFZoKRxbGzadJ87yPQx2d2u+bf3/2pN//NExD0SeSJ4ANZEcArFI9gEQOB1Hr0Xf9QwAZ0WVHvWKiaWEGRJNEhkAYUI3OGgKQRibG0hK6amBWj6B8nYUA8yxPJIkaD5bU3Dr/////1Y6L+9EKT//toKW73IvopO//NExEYRIX50ANPElADAQVSneXu825ZgiLtAXKXtU92FmWHM5jmLqLsEJUwDiT1IMSdPF/NGxZTwkcC/UFvdVrb22t7o6WGXeqHTiiTywqVIs7l1AsCK5weOyFtm4ojI//NExFQR2PJkANPMcJxrFURIUAW5bOlTP2WcvpgFqDlGUTcfqmcU9Di+14sKS8V9Dewoz28URToUPHSISBL9QFEg/hICkTsYBUoYI4TRQlTHUot7UyiuFTKLYoZhUWFT//NExF8SKL40AMPeTFK2a8pRZ9KKuzUv9qqkwqHQkFQ2VdEQiqHhsNdZaJc7ywFdkkliPlf1nTt5ZP/7MjUVBkJBATiQTigjOojxt0kI8EAYE6CdTUTaac3Dc1Sdw9O0//NExGkRmNngAHpGcKQYMPQvNy4h//6nVwfiwaNPQaBNlZszmfR/Qb/pMdJr+aMnPzJpDEA4FBSTigJ2N1zaBdJTtisM5yBAsJjL6AIFw5WQMuXqFjIRxzdD6QiQCyBY//NExHUAAANIAAAAAAYRAhALBsIrIBYm4BkAI1SRX//+hRXi3mqBoBShtmRAQNBQSApIGSLosgCipJ6W+MZ6jQqAiIwkP1ZUiCxIKAUKgIWARIKmQmAiQVAREBEgKwKm//NExMgR8QWAAEpMcFo9H/+tISIqTEFNRTMuMTAwqqqqqqqqqqqqqqqqqqqqqqqqqqqqqqqqqqqqqqqqqqqqqqqqqqqqqqqqqqqqqqqqqqqqqqqqqqqqqqqqTEFNRTMu//NExNMQYGH0AGJGKDEwMKqqqqqqqqqqqqqqqqqqqqqqqqqqqqqqqqqqqqqqqqqqqqqqqqqqqqqqqqqqqqqqqqqqqqqqqqqqqqqqqqqqqqqqqqqqqqqqqqqqTEFNRTMu//NExOQRWDnMAHpGBDEwMKqqqqqqqqqqqqqqqqqqqqqqqqqqqqqqqqqqqqqqqqqqqqqqqqqqqqqqqqqqqqqqqqqqqqqqqqqqqqqqqqqqqqqqqqqqqqqqqqqqTEFNRTMu//NExKwAAANIAAAAADEwMKqqqqqqqqqqqqqqqqqqqqqqqqqqqqqqqqqqqqqqqqqqqqqqqqqqqqqqqqqqqqqqqqqqqqqqqqqqqqqqqqqqqqqqqqqqqqqqqqqqTEFNRTMu//NExKwAAANIAAAAADEwMKqqqqqqqqqqqqqqqqqqqqqqqqqqqqqqqqqqqqqqqqqqqqqqqqqqqqqqqqqqqqqqqqqqqqqqqqqqqqqqqqqqqqqqqqqqqqqqqqqqqqqqqqqq//NExKwAAANIAAAAAKqqqqqqqqqqqqqqqqqqqqqqqqqqqqqqqqqqqqqqqqqqqqqqqqqqqqqqqqqqqqqqqqqqqqqqqqqqqqqqqqqqqqqqqqqqqqqqqqqqqqqqqqqqqqqq//NExKwAAANIAAAAAKqqqqqqqqqqqqqqqqqqqqqqqqqqqqqqqqqqqqqqqqqqqqqqqqqqqqqqqqqqqqqqqqqqqqqqqqqqqqqqqqqqqqqqqqqqqqqqqqqqqqqqqqqqqqqq\" type=\"audio/x-wav\" />\n",
              "                    Your browser does not support the audio element.\n",
              "                </audio>\n",
              "              "
            ]
          },
          "metadata": {}
        },
        {
          "output_type": "display_data",
          "data": {
            "text/plain": [
              "<IPython.lib.display.Audio object>"
            ],
            "text/html": [
              "\n",
              "                <audio  controls=\"controls\" autoplay=\"autoplay\">\n",
              "                    <source src=\"data:audio/x-wav;base64,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\" type=\"audio/x-wav\" />\n",
              "                    Your browser does not support the audio element.\n",
              "                </audio>\n",
              "              "
            ]
          },
          "metadata": {}
        },
        {
          "output_type": "display_data",
          "data": {
            "text/plain": [
              "<IPython.lib.display.Audio object>"
            ],
            "text/html": [
              "\n",
              "                <audio  controls=\"controls\" autoplay=\"autoplay\">\n",
              "                    <source src=\"data:audio/x-wav;base64,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\" type=\"audio/x-wav\" />\n",
              "                    Your browser does not support the audio element.\n",
              "                </audio>\n",
              "              "
            ]
          },
          "metadata": {}
        },
        {
          "output_type": "display_data",
          "data": {
            "text/plain": [
              "<IPython.lib.display.Audio object>"
            ],
            "text/html": [
              "\n",
              "                <audio  controls=\"controls\" autoplay=\"autoplay\">\n",
              "                    <source src=\"data:audio/x-wav;base64,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\" type=\"audio/x-wav\" />\n",
              "                    Your browser does not support the audio element.\n",
              "                </audio>\n",
              "              "
            ]
          },
          "metadata": {}
        },
        {
          "output_type": "display_data",
          "data": {
            "text/plain": [
              "<IPython.lib.display.Audio object>"
            ],
            "text/html": [
              "\n",
              "                <audio  controls=\"controls\" autoplay=\"autoplay\">\n",
              "                    <source src=\"data:audio/x-wav;base64,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\" type=\"audio/x-wav\" />\n",
              "                    Your browser does not support the audio element.\n",
              "                </audio>\n",
              "              "
            ]
          },
          "metadata": {}
        },
        {
          "output_type": "display_data",
          "data": {
            "text/plain": [
              "<IPython.lib.display.Audio object>"
            ],
            "text/html": [
              "\n",
              "                <audio  controls=\"controls\" autoplay=\"autoplay\">\n",
              "                    <source src=\"data:audio/x-wav;base64,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\" type=\"audio/x-wav\" />\n",
              "                    Your browser does not support the audio element.\n",
              "                </audio>\n",
              "              "
            ]
          },
          "metadata": {}
        },
        {
          "output_type": "display_data",
          "data": {
            "text/plain": [
              "<IPython.lib.display.Audio object>"
            ],
            "text/html": [
              "\n",
              "                <audio  controls=\"controls\" autoplay=\"autoplay\">\n",
              "                    <source src=\"data:audio/x-wav;base64,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\" type=\"audio/x-wav\" />\n",
              "                    Your browser does not support the audio element.\n",
              "                </audio>\n",
              "              "
            ]
          },
          "metadata": {}
        }
      ]
    },
    {
      "cell_type": "code",
      "source": [
        "print(\"enter the coorect sequence\")\n",
        "guess=int(input())\n",
        "if guess==number:\n",
        "  print(\"YAY! you won\")\n",
        "else:\n",
        " print(\"Baitho beta bahut kuch seekhna hai zindagi me\") \n"
      ],
      "metadata": {
        "colab": {
          "base_uri": "https://localhost:8080/"
        },
        "id": "LZt7YSMX6u_q",
        "outputId": "62574d3e-2be0-47d6-dcef-0c74d668c08b"
      },
      "execution_count": null,
      "outputs": [
        {
          "output_type": "stream",
          "name": "stdout",
          "text": [
            "enter the coorect sequence\n",
            "6435423256\n",
            "YAY! you won\n"
          ]
        }
      ]
    }
  ]
}